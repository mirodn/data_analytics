{
 "cells": [
  {
   "cell_type": "markdown",
   "id": "3d6541ed",
   "metadata": {},
   "source": [
    "# Analysis of contingency tables"
   ]
  },
  {
   "cell_type": "markdown",
   "id": "a4150db8",
   "metadata": {},
   "source": [
    "## Libraries and settings"
   ]
  },
  {
   "cell_type": "code",
   "execution_count": 1,
   "id": "20f0e969",
   "metadata": {},
   "outputs": [],
   "source": [
    "# Libraries\n",
    "import os\n",
    "import numpy as np\n",
    "import pandas as pd\n",
    "import matplotlib.pyplot as plt\n",
    "from scipy.stats import chi2\n",
    "from scipy.stats import chi2_contingency\n",
    "\n",
    "# Ignore warnings\n",
    "import warnings\n",
    "warnings.filterwarnings('ignore')"
   ]
  },
  {
   "cell_type": "markdown",
   "id": "25567b4c",
   "metadata": {},
   "source": [
    "## Import the apartment data"
   ]
  },
  {
   "cell_type": "code",
   "execution_count": 2,
   "id": "46a899e8",
   "metadata": {},
   "outputs": [
    {
     "data": {
      "text/html": [
       "<div>\n",
       "<style scoped>\n",
       "    .dataframe tbody tr th:only-of-type {\n",
       "        vertical-align: middle;\n",
       "    }\n",
       "\n",
       "    .dataframe tbody tr th {\n",
       "        vertical-align: top;\n",
       "    }\n",
       "\n",
       "    .dataframe thead th {\n",
       "        text-align: right;\n",
       "    }\n",
       "</style>\n",
       "<table border=\"1\" class=\"dataframe\">\n",
       "  <thead>\n",
       "    <tr style=\"text-align: right;\">\n",
       "      <th></th>\n",
       "      <th>apartment_id</th>\n",
       "      <th>address_raw</th>\n",
       "      <th>rooms</th>\n",
       "      <th>area</th>\n",
       "      <th>price_per_m2</th>\n",
       "      <th>luxurious</th>\n",
       "    </tr>\n",
       "  </thead>\n",
       "  <tbody>\n",
       "    <tr>\n",
       "      <th>0</th>\n",
       "      <td>1662023695-433</td>\n",
       "      <td>Sunnenbergstrasse 15, 8633 Wolfhausen, ZH</td>\n",
       "      <td>3.5</td>\n",
       "      <td>122.0</td>\n",
       "      <td>26.07</td>\n",
       "      <td>1</td>\n",
       "    </tr>\n",
       "    <tr>\n",
       "      <th>1</th>\n",
       "      <td>1662023720-634</td>\n",
       "      <td>Blumenbergstrasse 7, 8633 Wolfhausen, ZH</td>\n",
       "      <td>4.0</td>\n",
       "      <td>87.0</td>\n",
       "      <td>19.43</td>\n",
       "      <td>0</td>\n",
       "    </tr>\n",
       "    <tr>\n",
       "      <th>2</th>\n",
       "      <td>1662023745-834</td>\n",
       "      <td>8608 Bubikon, ZH</td>\n",
       "      <td>3.5</td>\n",
       "      <td>92.0</td>\n",
       "      <td>25.54</td>\n",
       "      <td>0</td>\n",
       "    </tr>\n",
       "    <tr>\n",
       "      <th>3</th>\n",
       "      <td>1662023701-503</td>\n",
       "      <td>8608 Bubikon, ZH</td>\n",
       "      <td>3.5</td>\n",
       "      <td>130.0</td>\n",
       "      <td>19.23</td>\n",
       "      <td>0</td>\n",
       "    </tr>\n",
       "    <tr>\n",
       "      <th>4</th>\n",
       "      <td>1662023745-820</td>\n",
       "      <td>Lavaterstr. 63, 8002 Zürich, ZH</td>\n",
       "      <td>2.5</td>\n",
       "      <td>78.0</td>\n",
       "      <td>48.21</td>\n",
       "      <td>0</td>\n",
       "    </tr>\n",
       "  </tbody>\n",
       "</table>\n",
       "</div>"
      ],
      "text/plain": [
       "     apartment_id                                address_raw  rooms   area  \\\n",
       "0  1662023695-433  Sunnenbergstrasse 15, 8633 Wolfhausen, ZH    3.5  122.0   \n",
       "1  1662023720-634   Blumenbergstrasse 7, 8633 Wolfhausen, ZH    4.0   87.0   \n",
       "2  1662023745-834                           8608 Bubikon, ZH    3.5   92.0   \n",
       "3  1662023701-503                           8608 Bubikon, ZH    3.5  130.0   \n",
       "4  1662023745-820            Lavaterstr. 63, 8002 Zürich, ZH    2.5   78.0   \n",
       "\n",
       "   price_per_m2  luxurious  \n",
       "0         26.07          1  \n",
       "1         19.43          0  \n",
       "2         25.54          0  \n",
       "3         19.23          0  \n",
       "4         48.21          0  "
      ]
     },
     "execution_count": 2,
     "metadata": {},
     "output_type": "execute_result"
    }
   ],
   "source": [
    "# Define columns\n",
    "columns = ['web-scraper-order',\n",
    "           'address_raw',\n",
    "           'rooms',\n",
    "           'area',\n",
    "           'price_per_m2',\n",
    "           'luxurious']\n",
    "\n",
    "# Read and select variables\n",
    "df_orig = pd.read_csv(\"apartments_data_enriched.csv\")[columns]\n",
    "\n",
    "# Rename variable 'web-scraper-order' to 'apmt_id'\n",
    "df_orig = df_orig.rename(columns={'web-scraper-order': 'apartment_id'})\n",
    "\n",
    "# Remove missing values\n",
    "df = df_orig.dropna()\n",
    "df.head(5)\n",
    "\n",
    "# Remove duplicates\n",
    "df = df.drop_duplicates()\n",
    "df.head(5)"
   ]
  },
  {
   "cell_type": "markdown",
   "id": "e74fbc77",
   "metadata": {},
   "source": [
    "## Create new categorical variable based on price_per_m2"
   ]
  },
  {
   "cell_type": "markdown",
   "id": "e56c7240",
   "metadata": {},
   "source": [
    "### Plot histogram of price_per_m2"
   ]
  },
  {
   "cell_type": "code",
   "execution_count": 3,
   "id": "6edbede0",
   "metadata": {},
   "outputs": [
    {
     "data": {
      "image/png": "[encoded data removed]",
      "text/plain": [
       "<Figure size 700x400 with 1 Axes>"
      ]
     },
     "metadata": {},
     "output_type": "display_data"
    }
   ],
   "source": [
    "# Plot Histogram\n",
    "fig = plt.figure( figsize=(7,4))\n",
    "plt.xticks(fontsize=14, rotation=0)\n",
    "plt.yticks(fontsize=14, rotation=0)\n",
    "n, bins, patches = plt.hist(x=df['price_per_m2'], \n",
    "                            bins=20, \n",
    "                            color='#42AD12',\n",
    "                            alpha=0.5, \n",
    "                            rwidth=0.95\n",
    "                   )\n",
    "plt.grid(True)\n",
    "plt.ticklabel_format(style='plain')\n",
    "plt.grid(axis='y', alpha=0.75)\n",
    "\n",
    "# Set labels\n",
    "plt.xlabel('price_per_m2', fontsize=10, labelpad=10)\n",
    "plt.ylabel('Frequency', fontsize=10, labelpad=10)\n",
    "plt.title('Histogram of price_per_m2', fontsize=12, pad=10)\n",
    "\n",
    "# Set fontsize of tick labels\n",
    "plt.xticks(fontsize = 10)\n",
    "plt.yticks(fontsize = 10)\n",
    "\n",
    "plt.show()"
   ]
  },
  {
   "cell_type": "markdown",
   "id": "e6ab41ba",
   "metadata": {},
   "source": [
    "### Show quantiles of price_per_m2"
   ]
  },
  {
   "cell_type": "code",
   "execution_count": 4,
   "id": "0a6b0b5f",
   "metadata": {},
   "outputs": [
    {
     "data": {
      "text/plain": [
       "0.10    19.2\n",
       "0.25    21.8\n",
       "0.50    25.5\n",
       "0.75    31.9\n",
       "0.90    44.1\n",
       "Name: price_per_m2, dtype: float64"
      ]
     },
     "execution_count": 4,
     "metadata": {},
     "output_type": "execute_result"
    }
   ],
   "source": [
    "qt_price = df['price_per_m2'].quantile(q=[0.10, 0.25, 0.50, 0.75, 0.90]).round(1)\n",
    "qt_price"
   ]
  },
  {
   "cell_type": "markdown",
   "id": "7ab1b92b",
   "metadata": {},
   "source": [
    "### Create new categorical variable 'price_cat'"
   ]
  },
  {
   "cell_type": "code",
   "execution_count": 5,
   "id": "64c1c347",
   "metadata": {},
   "outputs": [
    {
     "data": {
      "text/html": [
       "<div>\n",
       "<style scoped>\n",
       "    .dataframe tbody tr th:only-of-type {\n",
       "        vertical-align: middle;\n",
       "    }\n",
       "\n",
       "    .dataframe tbody tr th {\n",
       "        vertical-align: top;\n",
       "    }\n",
       "\n",
       "    .dataframe thead th {\n",
       "        text-align: right;\n",
       "    }\n",
       "</style>\n",
       "<table border=\"1\" class=\"dataframe\">\n",
       "  <thead>\n",
       "    <tr style=\"text-align: right;\">\n",
       "      <th></th>\n",
       "      <th>price_per_m2</th>\n",
       "      <th>price_cat</th>\n",
       "    </tr>\n",
       "  </thead>\n",
       "  <tbody>\n",
       "    <tr>\n",
       "      <th>0</th>\n",
       "      <td>26.07</td>\n",
       "      <td>25 - 32</td>\n",
       "    </tr>\n",
       "    <tr>\n",
       "      <th>1</th>\n",
       "      <td>19.43</td>\n",
       "      <td>0 - 19</td>\n",
       "    </tr>\n",
       "    <tr>\n",
       "      <th>2</th>\n",
       "      <td>25.54</td>\n",
       "      <td>25 - 32</td>\n",
       "    </tr>\n",
       "    <tr>\n",
       "      <th>3</th>\n",
       "      <td>19.23</td>\n",
       "      <td>0 - 19</td>\n",
       "    </tr>\n",
       "    <tr>\n",
       "      <th>4</th>\n",
       "      <td>48.21</td>\n",
       "      <td>&gt;= 33</td>\n",
       "    </tr>\n",
       "    <tr>\n",
       "      <th>5</th>\n",
       "      <td>35.38</td>\n",
       "      <td>&gt;= 33</td>\n",
       "    </tr>\n",
       "    <tr>\n",
       "      <th>6</th>\n",
       "      <td>49.49</td>\n",
       "      <td>&gt;= 33</td>\n",
       "    </tr>\n",
       "    <tr>\n",
       "      <th>7</th>\n",
       "      <td>40.04</td>\n",
       "      <td>&gt;= 33</td>\n",
       "    </tr>\n",
       "    <tr>\n",
       "      <th>8</th>\n",
       "      <td>30.69</td>\n",
       "      <td>25 - 32</td>\n",
       "    </tr>\n",
       "    <tr>\n",
       "      <th>9</th>\n",
       "      <td>30.77</td>\n",
       "      <td>25 - 32</td>\n",
       "    </tr>\n",
       "  </tbody>\n",
       "</table>\n",
       "</div>"
      ],
      "text/plain": [
       "   price_per_m2 price_cat\n",
       "0         26.07   25 - 32\n",
       "1         19.43    0 - 19\n",
       "2         25.54   25 - 32\n",
       "3         19.23    0 - 19\n",
       "4         48.21     >= 33\n",
       "5         35.38     >= 33\n",
       "6         49.49     >= 33\n",
       "7         40.04     >= 33\n",
       "8         30.69   25 - 32\n",
       "9         30.77   25 - 32"
      ]
     },
     "execution_count": 5,
     "metadata": {},
     "output_type": "execute_result"
    }
   ],
   "source": [
    "# Create labels\n",
    "labels = ['0 - 19', '20 - 24', '25 - 32', '>= 33']\n",
    "\n",
    "# Create new categorical variable\n",
    "df[\"price_cat\"] = pd.cut(df.price_per_m2, bins=[0, 20, 25, 33, 150], labels=labels)\n",
    "\n",
    "# Check values\n",
    "df[['price_per_m2', 'price_cat']].head(10)"
   ]
  },
  {
   "cell_type": "markdown",
   "id": "6ff41d97",
   "metadata": {},
   "source": [
    "## Create new categorical variable based on the living area"
   ]
  },
  {
   "cell_type": "markdown",
   "id": "94238fe6",
   "metadata": {},
   "source": [
    "### Plot histogram of price_per_m2"
   ]
  },
  {
   "cell_type": "code",
   "execution_count": 6,
   "id": "803904ef",
   "metadata": {},
   "outputs": [
    {
     "data": {
      "image/png": "[encoded data removed]",
      "text/plain": [
       "<Figure size 700x400 with 1 Axes>"
      ]
     },
     "metadata": {},
     "output_type": "display_data"
    }
   ],
   "source": [
    "# Plot Histogram\n",
    "fig = plt.figure( figsize=(7,4))\n",
    "plt.xticks(fontsize=14, rotation=0)\n",
    "plt.yticks(fontsize=14, rotation=0)\n",
    "n, bins, patches = plt.hist(x=df['area'], \n",
    "                            bins=20, \n",
    "                            color='blue',\n",
    "                            alpha=0.5, \n",
    "                            rwidth=0.95\n",
    "                   )\n",
    "plt.grid(True)\n",
    "plt.ticklabel_format(style='plain')\n",
    "plt.grid(axis='y', alpha=0.75)\n",
    "\n",
    "# Set labels\n",
    "plt.xlabel('area (m2)', fontsize=10, labelpad=10)\n",
    "plt.ylabel('Frequency', fontsize=10, labelpad=10)\n",
    "plt.title('Histogram of area', fontsize=12, pad=10)\n",
    "\n",
    "# Set fontsize of tick labels\n",
    "plt.xticks(fontsize = 10)\n",
    "plt.yticks(fontsize = 10)\n",
    "\n",
    "plt.show()"
   ]
  },
  {
   "cell_type": "markdown",
   "id": "58c42afd",
   "metadata": {},
   "source": [
    "### Show quantiles of area"
   ]
  },
  {
   "cell_type": "code",
   "execution_count": 7,
   "id": "ddcd2024",
   "metadata": {},
   "outputs": [
    {
     "data": {
      "text/plain": [
       "0.10     49.7\n",
       "0.25     65.0\n",
       "0.50     82.0\n",
       "0.75    100.2\n",
       "0.90    123.0\n",
       "Name: area, dtype: float64"
      ]
     },
     "execution_count": 7,
     "metadata": {},
     "output_type": "execute_result"
    }
   ],
   "source": [
    "qt_area = df['area'].quantile(q=[0.10, 0.25, 0.50, 0.75, 0.90]).round(1)\n",
    "qt_area"
   ]
  },
  {
   "cell_type": "markdown",
   "id": "558ab6c0",
   "metadata": {},
   "source": [
    "### Create new categorical variable 'area_cat'"
   ]
  },
  {
   "cell_type": "code",
   "execution_count": 8,
   "id": "7bf77edd",
   "metadata": {},
   "outputs": [
    {
     "data": {
      "text/html": [
       "<div>\n",
       "<style scoped>\n",
       "    .dataframe tbody tr th:only-of-type {\n",
       "        vertical-align: middle;\n",
       "    }\n",
       "\n",
       "    .dataframe tbody tr th {\n",
       "        vertical-align: top;\n",
       "    }\n",
       "\n",
       "    .dataframe thead th {\n",
       "        text-align: right;\n",
       "    }\n",
       "</style>\n",
       "<table border=\"1\" class=\"dataframe\">\n",
       "  <thead>\n",
       "    <tr style=\"text-align: right;\">\n",
       "      <th></th>\n",
       "      <th>area</th>\n",
       "      <th>area_cat</th>\n",
       "    </tr>\n",
       "  </thead>\n",
       "  <tbody>\n",
       "    <tr>\n",
       "      <th>0</th>\n",
       "      <td>122.0</td>\n",
       "      <td>100 - 125</td>\n",
       "    </tr>\n",
       "    <tr>\n",
       "      <th>1</th>\n",
       "      <td>87.0</td>\n",
       "      <td>85 - 99</td>\n",
       "    </tr>\n",
       "    <tr>\n",
       "      <th>2</th>\n",
       "      <td>92.0</td>\n",
       "      <td>85 - 99</td>\n",
       "    </tr>\n",
       "    <tr>\n",
       "      <th>3</th>\n",
       "      <td>130.0</td>\n",
       "      <td>&gt; 125</td>\n",
       "    </tr>\n",
       "    <tr>\n",
       "      <th>4</th>\n",
       "      <td>78.0</td>\n",
       "      <td>65 - 84</td>\n",
       "    </tr>\n",
       "    <tr>\n",
       "      <th>5</th>\n",
       "      <td>195.0</td>\n",
       "      <td>&gt; 125</td>\n",
       "    </tr>\n",
       "    <tr>\n",
       "      <th>6</th>\n",
       "      <td>59.0</td>\n",
       "      <td>50 - 64</td>\n",
       "    </tr>\n",
       "    <tr>\n",
       "      <th>7</th>\n",
       "      <td>75.0</td>\n",
       "      <td>65 - 84</td>\n",
       "    </tr>\n",
       "    <tr>\n",
       "      <th>8</th>\n",
       "      <td>58.0</td>\n",
       "      <td>50 - 64</td>\n",
       "    </tr>\n",
       "    <tr>\n",
       "      <th>9</th>\n",
       "      <td>52.0</td>\n",
       "      <td>50 - 64</td>\n",
       "    </tr>\n",
       "  </tbody>\n",
       "</table>\n",
       "</div>"
      ],
      "text/plain": [
       "    area   area_cat\n",
       "0  122.0  100 - 125\n",
       "1   87.0    85 - 99\n",
       "2   92.0    85 - 99\n",
       "3  130.0      > 125\n",
       "4   78.0    65 - 84\n",
       "5  195.0      > 125\n",
       "6   59.0    50 - 64\n",
       "7   75.0    65 - 84\n",
       "8   58.0    50 - 64\n",
       "9   52.0    50 - 64"
      ]
     },
     "execution_count": 8,
     "metadata": {},
     "output_type": "execute_result"
    }
   ],
   "source": [
    "# Create labels\n",
    "labels = ['0 - 49', '50 - 64', '65 - 84', '85 - 99', '100 - 125', '> 125']\n",
    "\n",
    "# Create new categorical variable\n",
    "df[\"area_cat\"] = pd.cut(df['area'], bins=[0, 50, 65, 85, 100, 125, 1000], labels=labels)\n",
    "\n",
    "# Check values\n",
    "df[['area', 'area_cat']].head(10)"
   ]
  },
  {
   "cell_type": "markdown",
   "id": "59cf08d1",
   "metadata": {},
   "source": [
    "## Create contingency table with number of apartments for 'area_cat' versus 'price_cat'"
   ]
  },
  {
   "cell_type": "code",
   "execution_count": 9,
   "id": "53e7c37f",
   "metadata": {},
   "outputs": [
    {
     "data": {
      "text/html": [
       "<div>\n",
       "<style scoped>\n",
       "    .dataframe tbody tr th:only-of-type {\n",
       "        vertical-align: middle;\n",
       "    }\n",
       "\n",
       "    .dataframe tbody tr th {\n",
       "        vertical-align: top;\n",
       "    }\n",
       "\n",
       "    .dataframe thead tr th {\n",
       "        text-align: left;\n",
       "    }\n",
       "\n",
       "    .dataframe thead tr:last-of-type th {\n",
       "        text-align: right;\n",
       "    }\n",
       "</style>\n",
       "<table border=\"1\" class=\"dataframe\">\n",
       "  <thead>\n",
       "    <tr>\n",
       "      <th></th>\n",
       "      <th colspan=\"4\" halign=\"left\">apartment_id</th>\n",
       "    </tr>\n",
       "    <tr>\n",
       "      <th>price_cat</th>\n",
       "      <th>0 - 19</th>\n",
       "      <th>20 - 24</th>\n",
       "      <th>25 - 32</th>\n",
       "      <th>&gt;= 33</th>\n",
       "    </tr>\n",
       "    <tr>\n",
       "      <th>area_cat</th>\n",
       "      <th></th>\n",
       "      <th></th>\n",
       "      <th></th>\n",
       "      <th></th>\n",
       "    </tr>\n",
       "  </thead>\n",
       "  <tbody>\n",
       "    <tr>\n",
       "      <th>0 - 49</th>\n",
       "      <td>0</td>\n",
       "      <td>4</td>\n",
       "      <td>22</td>\n",
       "      <td>66</td>\n",
       "    </tr>\n",
       "    <tr>\n",
       "      <th>50 - 64</th>\n",
       "      <td>5</td>\n",
       "      <td>30</td>\n",
       "      <td>54</td>\n",
       "      <td>41</td>\n",
       "    </tr>\n",
       "    <tr>\n",
       "      <th>65 - 84</th>\n",
       "      <td>14</td>\n",
       "      <td>102</td>\n",
       "      <td>87</td>\n",
       "      <td>55</td>\n",
       "    </tr>\n",
       "    <tr>\n",
       "      <th>85 - 99</th>\n",
       "      <td>37</td>\n",
       "      <td>76</td>\n",
       "      <td>42</td>\n",
       "      <td>16</td>\n",
       "    </tr>\n",
       "    <tr>\n",
       "      <th>100 - 125</th>\n",
       "      <td>31</td>\n",
       "      <td>57</td>\n",
       "      <td>37</td>\n",
       "      <td>14</td>\n",
       "    </tr>\n",
       "    <tr>\n",
       "      <th>&gt; 125</th>\n",
       "      <td>38</td>\n",
       "      <td>20</td>\n",
       "      <td>13</td>\n",
       "      <td>7</td>\n",
       "    </tr>\n",
       "  </tbody>\n",
       "</table>\n",
       "</div>"
      ],
      "text/plain": [
       "          apartment_id                      \n",
       "price_cat       0 - 19 20 - 24 25 - 32 >= 33\n",
       "area_cat                                    \n",
       "0 - 49               0       4      22    66\n",
       "50 - 64              5      30      54    41\n",
       "65 - 84             14     102      87    55\n",
       "85 - 99             37      76      42    16\n",
       "100 - 125           31      57      37    14\n",
       "> 125               38      20      13     7"
      ]
     },
     "execution_count": 9,
     "metadata": {},
     "output_type": "execute_result"
    }
   ],
   "source": [
    "# Contingency table (numbers in the table are apartments)\n",
    "tab = pd.pivot_table(df[['apartment_id', 'area_cat', 'price_cat']],\n",
    "                     index=['area_cat'],\n",
    "                     columns=['price_cat'], \n",
    "                     aggfunc='count')\n",
    "tab"
   ]
  },
  {
   "cell_type": "markdown",
   "id": "9ffb9102",
   "metadata": {},
   "source": [
    "## Select part of the contingency table"
   ]
  },
  {
   "cell_type": "code",
   "execution_count": 10,
   "id": "d86cae10",
   "metadata": {},
   "outputs": [
    {
     "data": {
      "text/html": [
       "<div>\n",
       "<style scoped>\n",
       "    .dataframe tbody tr th:only-of-type {\n",
       "        vertical-align: middle;\n",
       "    }\n",
       "\n",
       "    .dataframe tbody tr th {\n",
       "        vertical-align: top;\n",
       "    }\n",
       "\n",
       "    .dataframe thead tr th {\n",
       "        text-align: left;\n",
       "    }\n",
       "\n",
       "    .dataframe thead tr:last-of-type th {\n",
       "        text-align: right;\n",
       "    }\n",
       "</style>\n",
       "<table border=\"1\" class=\"dataframe\">\n",
       "  <thead>\n",
       "    <tr>\n",
       "      <th></th>\n",
       "      <th colspan=\"4\" halign=\"left\">apartment_id</th>\n",
       "    </tr>\n",
       "    <tr>\n",
       "      <th>price_cat</th>\n",
       "      <th>0 - 19</th>\n",
       "      <th>20 - 24</th>\n",
       "      <th>25 - 32</th>\n",
       "      <th>&gt;= 33</th>\n",
       "    </tr>\n",
       "    <tr>\n",
       "      <th>area_cat</th>\n",
       "      <th></th>\n",
       "      <th></th>\n",
       "      <th></th>\n",
       "      <th></th>\n",
       "    </tr>\n",
       "  </thead>\n",
       "  <tbody>\n",
       "    <tr>\n",
       "      <th>0 - 49</th>\n",
       "      <td>0</td>\n",
       "      <td>4</td>\n",
       "      <td>22</td>\n",
       "      <td>66</td>\n",
       "    </tr>\n",
       "    <tr>\n",
       "      <th>50 - 64</th>\n",
       "      <td>5</td>\n",
       "      <td>30</td>\n",
       "      <td>54</td>\n",
       "      <td>41</td>\n",
       "    </tr>\n",
       "    <tr>\n",
       "      <th>65 - 84</th>\n",
       "      <td>14</td>\n",
       "      <td>102</td>\n",
       "      <td>87</td>\n",
       "      <td>55</td>\n",
       "    </tr>\n",
       "    <tr>\n",
       "      <th>85 - 99</th>\n",
       "      <td>37</td>\n",
       "      <td>76</td>\n",
       "      <td>42</td>\n",
       "      <td>16</td>\n",
       "    </tr>\n",
       "    <tr>\n",
       "      <th>100 - 125</th>\n",
       "      <td>31</td>\n",
       "      <td>57</td>\n",
       "      <td>37</td>\n",
       "      <td>14</td>\n",
       "    </tr>\n",
       "    <tr>\n",
       "      <th>&gt; 125</th>\n",
       "      <td>38</td>\n",
       "      <td>20</td>\n",
       "      <td>13</td>\n",
       "      <td>7</td>\n",
       "    </tr>\n",
       "  </tbody>\n",
       "</table>\n",
       "</div>"
      ],
      "text/plain": [
       "          apartment_id                      \n",
       "price_cat       0 - 19 20 - 24 25 - 32 >= 33\n",
       "area_cat                                    \n",
       "0 - 49               0       4      22    66\n",
       "50 - 64              5      30      54    41\n",
       "65 - 84             14     102      87    55\n",
       "85 - 99             37      76      42    16\n",
       "100 - 125           31      57      37    14\n",
       "> 125               38      20      13     7"
      ]
     },
     "execution_count": 10,
     "metadata": {},
     "output_type": "execute_result"
    }
   ],
   "source": [
    "# Select part of the contigency table (remember: .iloc[] \n",
    "# allows selecting rows and colums using an index \n",
    "# .iloc[from row:to row, from column:to column])\n",
    "\n",
    "tab_sub = tab.iloc[0:6,0:4]\n",
    "tab_sub"
   ]
  },
  {
   "cell_type": "markdown",
   "id": "7600df22",
   "metadata": {},
   "source": [
    "## Perform Chi-square test\n",
    "For details see: https://docs.scipy.org/doc/scipy/reference/generated/scipy.stats.chi2_contingency.html"
   ]
  },
  {
   "cell_type": "code",
   "execution_count": 11,
   "id": "06972c6c",
   "metadata": {},
   "outputs": [
    {
     "name": "stdout",
     "output_type": "stream",
     "text": [
      "Expected frequencies: \n",
      " [[13.2488 30.6313 27.0276 21.0922]\n",
      " [18.7212 43.2834 38.1912 29.8041]\n",
      " [37.1544 85.9009 75.7949 59.1498]\n",
      " [24.6256 56.9343 50.2362 39.2039]\n",
      " [20.0173 46.28   40.8353 31.8675]\n",
      " [11.2327 25.97   22.9147 17.8825]] \n",
      "\n",
      "Critical value: 24.9958 \n",
      "\n",
      "Test statistic: 299.874 \n",
      "\n",
      "Degrees of freedom: 15 \n",
      "\n",
      "p-value: 0.0000\n"
     ]
    }
   ],
   "source": [
    "# 1-alpha\n",
    "prob = 0.95\n",
    "\n",
    "# Chi-squared test\n",
    "stat, p, dof, expected = chi2_contingency(tab_sub)\n",
    "\n",
    "# Critical value\n",
    "critical = chi2.ppf(prob, dof)\n",
    "\n",
    "# Print results of the Chi-square test\n",
    "print('Expected frequencies:', '\\n', expected.round(4), '\\n')\n",
    "print('Critical value:', critical.round(4), '\\n')\n",
    "print('Test statistic:', stat.round(4), '\\n')\n",
    "print('Degrees of freedom:', dof, '\\n')\n",
    "print(f'p-value: {p:.4f}')"
   ]
  },
  {
   "cell_type": "markdown",
   "id": "99ec92f1",
   "metadata": {},
   "source": [
    "## Interpretation of Chi-squared test result"
   ]
  },
  {
   "cell_type": "markdown",
   "id": "d2891001",
   "metadata": {},
   "source": [
    "<p>Because the test statistic is smaller than the critical value and the p-value is larger than 0.05, we cannot reject the null hypothesis, i.e. there is no statistically siginificant (5% significance-level) difference in the number of apartments on the market for the selected area- and price categories.</p>"
   ]
  },
  {
   "cell_type": "markdown",
   "id": "63cac054",
   "metadata": {},
   "source": [
    "## Applying the Chi-squared test to animal behavior\n",
    "\n",
    "For full study see: https://davida-rosenstrauch.medium.com/applying-the-chi-squared-test-to-animal-behavior-b6cca3f930b8"
   ]
  },
  {
   "cell_type": "markdown",
   "id": "a384cb12",
   "metadata": {},
   "source": [
    "<img src=\"https://miro.medium.com/max/640/1*h5JgsNbUy2tuiLgSrkIlyA.png\" width=\"400\" height=\"500\" align=\"left\"/>"
   ]
  },
  {
   "cell_type": "markdown",
   "id": "4b0eb943",
   "metadata": {},
   "source": [
    "### Contingency table"
   ]
  },
  {
   "cell_type": "code",
   "execution_count": 12,
   "id": "ba5c4da3",
   "metadata": {},
   "outputs": [
    {
     "data": {
      "text/plain": [
       "[[0, 4], [7, 6], [9, 0], [15, 10]]"
      ]
     },
     "execution_count": 12,
     "metadata": {},
     "output_type": "execute_result"
    }
   ],
   "source": [
    "# The table shows how many times each hyena responded with each of our response categories\n",
    "table = table = [[0,4],\n",
    "                 [7,6],\n",
    "                 [9,0],\n",
    "                 [15,10]]\n",
    "table"
   ]
  },
  {
   "cell_type": "markdown",
   "id": "bd34cda9",
   "metadata": {},
   "source": [
    "## Perform Chi-squared test"
   ]
  },
  {
   "cell_type": "code",
   "execution_count": 18,
   "id": "641ef415",
   "metadata": {},
   "outputs": [
    {
     "name": "stdout",
     "output_type": "stream",
     "text": [
      "Chi-squared Test\n",
      "12.275605874948084 \n",
      "\n",
      "Expected frequencies: \n",
      " [[ 2.4314  1.5686]\n",
      " [ 7.902   5.098 ]\n",
      " [ 5.4706  3.5294]\n",
      " [15.1961  9.8039]] \n",
      "\n",
      "Critical value: 7.8147 \n",
      "\n",
      "Test statistic: 12.2754 \n",
      "\n",
      "Degrees of freedom: 3 \n",
      "\n",
      "p-value: 0.0065\n"
     ]
    }
   ],
   "source": [
    "print('Chi-squared Test')\n",
    "print(((0-2.4314)**2/2.4314)+\n",
    "     ((7-7.902)**2/7.902)+\n",
    "     ((9-5.4706)**2/5.4706)+\n",
    "     ((15-15.1961)**2/15.1961)+\n",
    "     ((4-1.5686)**2/1.5686)+\n",
    "     ((6-5.098)**2/5.098)+\n",
    "     ((0-3.5294)**2/3.5294)+\n",
    "     ((10-9.8039)**2/9.8039),'\\n')\n",
    "\n",
    "\n",
    "# 1-alpha\n",
    "prob = 0.95\n",
    "\n",
    "# Chi-squared test\n",
    "stat, p, dof, expected = chi2_contingency(table)\n",
    "\n",
    "# Critical value\n",
    "critical = chi2.ppf(prob, dof)\n",
    "\n",
    "# Print results of the Chi-square test\n",
    "print('Expected frequencies:', '\\n', expected.round(4), '\\n')\n",
    "print('Critical value:', critical.round(4), '\\n')\n",
    "print('Test statistic:', stat.round(4), '\\n')\n",
    "print('Degrees of freedom:', dof, '\\n')\n",
    "print(f'p-value: {p:.4f}')"
   ]
  },
  {
   "cell_type": "markdown",
   "id": "1a0f028b",
   "metadata": {},
   "source": [
    "### Jupyter notebook --footer info-- (please always provide this at the end of each submitted notebook)"
   ]
  },
  {
   "cell_type": "code",
   "execution_count": 14,
   "id": "4e63b4e2",
   "metadata": {},
   "outputs": [
    {
     "name": "stdout",
     "output_type": "stream",
     "text": [
      "-----------------------------------\n",
      "POSIX\n",
      "Darwin | 21.6.0\n",
      "Datetime: 2022-11-03 12:31:52\n",
      "Python Version: 3.9.13\n",
      "-----------------------------------\n"
     ]
    }
   ],
   "source": [
    "import os\n",
    "import platform\n",
    "import socket\n",
    "from platform import python_version\n",
    "from datetime import datetime\n",
    "\n",
    "print('-----------------------------------')\n",
    "print(os.name.upper())\n",
    "print(platform.system(), '|', platform.release())\n",
    "print('Datetime:', datetime.now().strftime(\"%Y-%m-%d %H:%M:%S\"))\n",
    "print('Python Version:', python_version())\n",
    "print('-----------------------------------')"
   ]
  }
 ],
 "metadata": {
  "kernelspec": {
   "display_name": "Python 3 (ipykernel)",
   "language": "python",
   "name": "python3"
  },
  "language_info": {
   "codemirror_mode": {
    "name": "ipython",
    "version": 3
   },
   "file_extension": ".py",
   "mimetype": "text/x-python",
   "name": "python",
   "nbconvert_exporter": "python",
   "pygments_lexer": "ipython3",
   "version": "3.9.13"
  }
 },
 "nbformat": 4,
 "nbformat_minor": 5
}
