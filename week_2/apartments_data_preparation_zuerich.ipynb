{
 "cells": [
  {
   "cell_type": "markdown",
   "id": "3272230e",
   "metadata": {},
   "source": [
    "# Importing and preparing rental apartments data"
   ]
  },
  {
   "cell_type": "markdown",
   "id": "c0e6a164",
   "metadata": {},
   "source": [
    "## Libraries and settings"
   ]
  },
  {
   "cell_type": "code",
   "execution_count": 1,
   "id": "e3b51c23",
   "metadata": {},
   "outputs": [],
   "source": [
    "# Libraries\n",
    "import os\n",
    "import re\n",
    "import time\n",
    "import fnmatch\n",
    "import numpy as np\n",
    "import pandas as pd\n",
    "\n",
    "# Ignore warnings\n",
    "import warnings\n",
    "warnings.filterwarnings(\"ignore\")"
   ]
  },
  {
   "cell_type": "markdown",
   "id": "2a7bff4a",
   "metadata": {},
   "source": [
    "## Importing data"
   ]
  },
  {
   "cell_type": "code",
   "execution_count": 2,
   "id": "aa8f37dd",
   "metadata": {
    "scrolled": true
   },
   "outputs": [
    {
     "name": "stdout",
     "output_type": "stream",
     "text": [
      "/Users/miroduman/Desktop/data analytics/Woche_2\n",
      "supermarkets_data_prepared.csv\n",
      "apartments_data_adliswil.csv\n",
      "apartments_data_prepared.csv\n",
      "apartments_data_preparedA.csv\n",
      "apartments_data_zuerich.csv\n"
     ]
    }
   ],
   "source": [
    "# Get current working directory\n",
    "print(os.getcwd())\n",
    "\n",
    "# Show all files in the directory\n",
    "flist = fnmatch.filter(os.listdir('.'), '*.csv')\n",
    "for i in flist:\n",
    "    print(i)\n",
    "\n",
    "# Read the data to a pandas data frame\n",
    "df = pd.read_csv('apartments_data_zuerich.csv', sep=',', encoding='utf-8')"
   ]
  },
  {
   "cell_type": "markdown",
   "id": "b95e9f0e",
   "metadata": {},
   "source": [
    "## Count number of rows and columns in the data frame"
   ]
  },
  {
   "cell_type": "code",
   "execution_count": 3,
   "id": "ec7391ad",
   "metadata": {},
   "outputs": [
    {
     "name": "stdout",
     "output_type": "stream",
     "text": [
      "Dimension: (1008, 7)\n",
      "Number of rows: 1008\n",
      "Number of columns: 7\n"
     ]
    }
   ],
   "source": [
    "# Dimension (rows, columns)\n",
    "print('Dimension:', df.shape)\n",
    "\n",
    "# Number of rows\n",
    "print('Number of rows:', df.shape[0])\n",
    "\n",
    "# Number of columns\n",
    "print('Number of columns:', df.shape[1])"
   ]
  },
  {
   "cell_type": "markdown",
   "id": "ace6d22c",
   "metadata": {},
   "source": [
    "## Get data types (raw-format from web scraping)"
   ]
  },
  {
   "cell_type": "code",
   "execution_count": 4,
   "id": "dd9244a5",
   "metadata": {},
   "outputs": [
    {
     "data": {
      "text/plain": [
       "web-scraper-order        object\n",
       "web-scraper-start-url    object\n",
       "rooms_area_price_raw     object\n",
       "address_raw              object\n",
       "price_raw                object\n",
       "description_raw          object\n",
       "text_raw                 object\n",
       "dtype: object"
      ]
     },
     "execution_count": 4,
     "metadata": {},
     "output_type": "execute_result"
    }
   ],
   "source": [
    "# Get data types (note that in pandas, a string is referred to as 'object')\n",
    "df.dtypes"
   ]
  },
  {
   "cell_type": "markdown",
   "id": "9ea951fd",
   "metadata": {},
   "source": [
    "## Extract and save relevant information from raw data using regular expressions (regex)"
   ]
  },
  {
   "cell_type": "markdown",
   "id": "7c3be629",
   "metadata": {},
   "source": [
    "### Extract number of rooms"
   ]
  },
  {
   "cell_type": "code",
   "execution_count": 5,
   "id": "1c543c59",
   "metadata": {},
   "outputs": [
    {
     "name": "stdout",
     "output_type": "stream",
     "text": [
      "0    3,5 Zimmer, 122 m², CHF 3180.—\n",
      "1     2,5 Zimmer, 78 m², CHF 3760.—\n",
      "2    5,5 Zimmer, 115 m², CHF 2860.—\n",
      "3     3,5 Zimmer, 74 m², CHF 2165.—\n",
      "4    5,5 Zimmer, 195 m², CHF 6900.—\n",
      "Name: rooms_area_price_raw, dtype: object \n",
      "\n",
      "0    3.5\n",
      "1    2.5\n",
      "2    5.5\n",
      "3    3.5\n",
      "4    5.5\n",
      "Name: rooms, dtype: float64\n"
     ]
    }
   ],
   "source": [
    "# Extract values from 'rooms_area_price_raw' strings\n",
    "rooms = []\n",
    "for i in df['rooms_area_price_raw']:\n",
    "    d1 = re.findall('(.*)Zimmer', i)\n",
    "    try:\n",
    "        d2 = d1[0].strip().replace(',', '.')\n",
    "    except:\n",
    "        d2 = None\n",
    "    rooms.append(d2)\n",
    "\n",
    "# Save as new variable in the pandas data frame\n",
    "df['rooms'] = pd.Series(rooms, dtype=\"float64\")\n",
    "    \n",
    "# Print first 5 values\n",
    "print(df['rooms_area_price_raw'].head(5), '\\n')\n",
    "print(df['rooms'].head(5))"
   ]
  },
  {
   "cell_type": "markdown",
   "id": "d7f049dc",
   "metadata": {},
   "source": [
    "### Extract living area"
   ]
  },
  {
   "cell_type": "code",
   "execution_count": 6,
   "id": "85bc7408",
   "metadata": {},
   "outputs": [
    {
     "name": "stdout",
     "output_type": "stream",
     "text": [
      "0    3,5 Zimmer, 122 m², CHF 3180.—\n",
      "1     2,5 Zimmer, 78 m², CHF 3760.—\n",
      "2    5,5 Zimmer, 115 m², CHF 2860.—\n",
      "3     3,5 Zimmer, 74 m², CHF 2165.—\n",
      "4    5,5 Zimmer, 195 m², CHF 6900.—\n",
      "Name: rooms_area_price_raw, dtype: object \n",
      "\n",
      "0    122\n",
      "1     78\n",
      "2    115\n",
      "3     74\n",
      "4    195\n",
      "Name: area, dtype: Int64\n"
     ]
    }
   ],
   "source": [
    "# Extract values from 'rooms_area_price_raw' strings\n",
    "area = []\n",
    "for i in df['rooms_area_price_raw']:\n",
    "    d1 = re.findall('Zimmer, (.*)m²', i)\n",
    "    try:\n",
    "        d2 = d1[0].strip()\n",
    "    except:\n",
    "        d2 = None\n",
    "    area.append(d2)\n",
    "\n",
    "# Save as new variable in the pandas data frame\n",
    "df['area'] = pd.Series(area, dtype=\"Int64\")\n",
    "\n",
    "# Print first 5 values\n",
    "print(df['rooms_area_price_raw'].head(5), '\\n')\n",
    "print(df['area'].head(5))"
   ]
  },
  {
   "cell_type": "markdown",
   "id": "319ca1bd",
   "metadata": {},
   "source": [
    "### Extract rental price"
   ]
  },
  {
   "cell_type": "code",
   "execution_count": 7,
   "id": "97bba5d3",
   "metadata": {},
   "outputs": [
    {
     "name": "stdout",
     "output_type": "stream",
     "text": [
      "0    CHF 3180.—\n",
      "1    CHF 3760.—\n",
      "2    CHF 2860.—\n",
      "3    CHF 2165.—\n",
      "4    CHF 6900.—\n",
      "Name: price_raw, dtype: object \n",
      "\n",
      "0    3180\n",
      "1    3760\n",
      "2    2860\n",
      "3    2165\n",
      "4    6900\n",
      "Name: price, dtype: Int64\n"
     ]
    }
   ],
   "source": [
    "# Extract values from 'price_raw' strings\n",
    "price = []\n",
    "for i in df['price_raw']:\n",
    "    d1 = re.findall('[0-9]+', i)\n",
    "    try:\n",
    "        d2 = d1[0].strip()\n",
    "    except:\n",
    "        d2 = None\n",
    "    price.append(d2)\n",
    "\n",
    "# Save as new variable in the pandas data frame\n",
    "df['price'] = pd.Series(price, dtype=\"Int64\")\n",
    "\n",
    "# Print first 5 values\n",
    "print(df['price_raw'].head(5), '\\n')\n",
    "print(df['price'].head(5))"
   ]
  },
  {
   "cell_type": "markdown",
   "id": "53c03c80",
   "metadata": {},
   "source": [
    "### Get data types of all variables including the new ones"
   ]
  },
  {
   "cell_type": "code",
   "execution_count": 8,
   "id": "e2bc73f4",
   "metadata": {},
   "outputs": [
    {
     "data": {
      "text/plain": [
       "web-scraper-order         object\n",
       "web-scraper-start-url     object\n",
       "rooms_area_price_raw      object\n",
       "address_raw               object\n",
       "price_raw                 object\n",
       "description_raw           object\n",
       "text_raw                  object\n",
       "rooms                    float64\n",
       "area                       Int64\n",
       "price                      Int64\n",
       "dtype: object"
      ]
     },
     "execution_count": 8,
     "metadata": {},
     "output_type": "execute_result"
    }
   ],
   "source": [
    "df.dtypes"
   ]
  },
  {
   "cell_type": "markdown",
   "id": "bad3c2d0",
   "metadata": {},
   "source": [
    "## Count and identify missing values (if any)"
   ]
  },
  {
   "cell_type": "code",
   "execution_count": 9,
   "id": "707adcf1",
   "metadata": {},
   "outputs": [
    {
     "name": "stdout",
     "output_type": "stream",
     "text": [
      "web-scraper-order         0\n",
      "web-scraper-start-url     0\n",
      "rooms_area_price_raw      0\n",
      "address_raw               0\n",
      "price_raw                 0\n",
      "description_raw           0\n",
      "text_raw                  0\n",
      "rooms                    10\n",
      "area                     86\n",
      "price                     8\n",
      "dtype: int64\n"
     ]
    },
    {
     "data": {
      "text/html": [
       "<div>\n",
       "<style scoped>\n",
       "    .dataframe tbody tr th:only-of-type {\n",
       "        vertical-align: middle;\n",
       "    }\n",
       "\n",
       "    .dataframe tbody tr th {\n",
       "        vertical-align: top;\n",
       "    }\n",
       "\n",
       "    .dataframe thead th {\n",
       "        text-align: right;\n",
       "    }\n",
       "</style>\n",
       "<table border=\"1\" class=\"dataframe\">\n",
       "  <thead>\n",
       "    <tr style=\"text-align: right;\">\n",
       "      <th></th>\n",
       "      <th>web-scraper-order</th>\n",
       "      <th>web-scraper-start-url</th>\n",
       "      <th>rooms_area_price_raw</th>\n",
       "      <th>address_raw</th>\n",
       "      <th>price_raw</th>\n",
       "      <th>description_raw</th>\n",
       "      <th>text_raw</th>\n",
       "      <th>rooms</th>\n",
       "      <th>area</th>\n",
       "      <th>price</th>\n",
       "    </tr>\n",
       "  </thead>\n",
       "  <tbody>\n",
       "    <tr>\n",
       "      <th>36</th>\n",
       "      <td>1662023723-650</td>\n",
       "      <td>https://www.immoscout24.ch/de/wohnung/mieten/k...</td>\n",
       "      <td>5 Zimmer, CHF 2495.—</td>\n",
       "      <td>Grossackerstrasse 102, 8041 Zürich, ZH</td>\n",
       "      <td>CHF 2495.—</td>\n",
       "      <td>«5-Zimmer-Wohnung im Grünen»</td>\n",
       "      <td>5 Zimmer, CHF 2495.—Grossackerstrasse 102, 804...</td>\n",
       "      <td>5.0</td>\n",
       "      <td>&lt;NA&gt;</td>\n",
       "      <td>2495</td>\n",
       "    </tr>\n",
       "    <tr>\n",
       "      <th>45</th>\n",
       "      <td>1662023711-562</td>\n",
       "      <td>https://www.immoscout24.ch/de/wohnung/mieten/k...</td>\n",
       "      <td>3 Zimmer, CHF 1250.—</td>\n",
       "      <td>Trüllergasse 15, 8245 Feuerthalen, ZH</td>\n",
       "      <td>CHF 1250.—</td>\n",
       "      <td>«Wohnen am Rhein»</td>\n",
       "      <td>3 Zimmer, CHF 1250.—Trüllergasse 15, 8245 Feue...</td>\n",
       "      <td>3.0</td>\n",
       "      <td>&lt;NA&gt;</td>\n",
       "      <td>1250</td>\n",
       "    </tr>\n",
       "    <tr>\n",
       "      <th>50</th>\n",
       "      <td>1662023701-502</td>\n",
       "      <td>https://www.immoscout24.ch/de/wohnung/mieten/k...</td>\n",
       "      <td>3 Zimmer, CHF 1850.—</td>\n",
       "      <td>Zürcherstrasse 71, 8102 Oberengstringen, ZH</td>\n",
       "      <td>CHF 1850.—</td>\n",
       "      <td>«Sanierte Wohnung am Stadtrand von Zürich»</td>\n",
       "      <td>3 Zimmer, CHF 1850.—Zürcherstrasse 71, 8102 Ob...</td>\n",
       "      <td>3.0</td>\n",
       "      <td>&lt;NA&gt;</td>\n",
       "      <td>1850</td>\n",
       "    </tr>\n",
       "    <tr>\n",
       "      <th>58</th>\n",
       "      <td>1662023711-557</td>\n",
       "      <td>https://www.immoscout24.ch/de/wohnung/mieten/k...</td>\n",
       "      <td>2 Zimmer, CHF 1700.—</td>\n",
       "      <td>8113 Boppelsen, ZH</td>\n",
       "      <td>CHF 1700.—</td>\n",
       "      <td>«GROSSZÜGIG MIT GARTENSITZPLATZ»</td>\n",
       "      <td>2 Zimmer, CHF 1700.—8113 Boppelsen, ZH«GROSSZÜ...</td>\n",
       "      <td>2.0</td>\n",
       "      <td>&lt;NA&gt;</td>\n",
       "      <td>1700</td>\n",
       "    </tr>\n",
       "    <tr>\n",
       "      <th>67</th>\n",
       "      <td>1662023752-877</td>\n",
       "      <td>https://www.immoscout24.ch/de/wohnung/mieten/k...</td>\n",
       "      <td>CHF 1500.—</td>\n",
       "      <td>Flurstrasse 12/14, 8302 Kloten, ZH</td>\n",
       "      <td>CHF 1500.—</td>\n",
       "      <td>«Ihr Business Apartment möbliert und per sofor...</td>\n",
       "      <td>CHF 1500.—Flurstrasse 12/14, 8302 Kloten, ZH«I...</td>\n",
       "      <td>NaN</td>\n",
       "      <td>&lt;NA&gt;</td>\n",
       "      <td>1500</td>\n",
       "    </tr>\n",
       "    <tr>\n",
       "      <th>...</th>\n",
       "      <td>...</td>\n",
       "      <td>...</td>\n",
       "      <td>...</td>\n",
       "      <td>...</td>\n",
       "      <td>...</td>\n",
       "      <td>...</td>\n",
       "      <td>...</td>\n",
       "      <td>...</td>\n",
       "      <td>...</td>\n",
       "      <td>...</td>\n",
       "    </tr>\n",
       "    <tr>\n",
       "      <th>950</th>\n",
       "      <td>1662023742-794</td>\n",
       "      <td>https://www.immoscout24.ch/de/wohnung/mieten/k...</td>\n",
       "      <td>5,5 Zimmer, CHF 2100.—</td>\n",
       "      <td>8632 Tann, ZH</td>\n",
       "      <td>CHF 2100.—</td>\n",
       "      <td>«New price! LETZTE WOHNUNG: HELL, RENOVIERT, Z...</td>\n",
       "      <td>5,5 Zimmer, CHF 2100.—8632 Tann, ZH«New price!...</td>\n",
       "      <td>5.5</td>\n",
       "      <td>&lt;NA&gt;</td>\n",
       "      <td>2100</td>\n",
       "    </tr>\n",
       "    <tr>\n",
       "      <th>952</th>\n",
       "      <td>1662023780-1098</td>\n",
       "      <td>https://www.immoscout24.ch/de/wohnung/mieten/k...</td>\n",
       "      <td>4,5 Zimmer, CHF 1900.—</td>\n",
       "      <td>Gertrudstrasse 7, 8953 Dietikon, ZH</td>\n",
       "      <td>CHF 1900.—</td>\n",
       "      <td>«Gemütliche 4.5-Zimmer Wohnung»</td>\n",
       "      <td>4,5 Zimmer, CHF 1900.—Gertrudstrasse 7, 8953 D...</td>\n",
       "      <td>4.5</td>\n",
       "      <td>&lt;NA&gt;</td>\n",
       "      <td>1900</td>\n",
       "    </tr>\n",
       "    <tr>\n",
       "      <th>958</th>\n",
       "      <td>1662023727-696</td>\n",
       "      <td>https://www.immoscout24.ch/de/wohnung/mieten/k...</td>\n",
       "      <td>2,5 Zimmer, 67 m², Preis auf Anfrage</td>\n",
       "      <td>Hagenholzstrasse 55, 8050 Zürich, ZH</td>\n",
       "      <td>Preis auf Anfrage</td>\n",
       "      <td>«Exklusive Apartments im Tower55 - Oerlikon»</td>\n",
       "      <td>2,5 Zimmer, 67 m², Preis auf AnfrageHagenholzs...</td>\n",
       "      <td>2.5</td>\n",
       "      <td>67</td>\n",
       "      <td>&lt;NA&gt;</td>\n",
       "    </tr>\n",
       "    <tr>\n",
       "      <th>979</th>\n",
       "      <td>1662023723-649</td>\n",
       "      <td>https://www.immoscout24.ch/de/wohnung/mieten/k...</td>\n",
       "      <td>3,5 Zimmer, 86 m², Preis auf Anfrage</td>\n",
       "      <td>Hagenholzstrasse 55, 8050 Zürich, ZH</td>\n",
       "      <td>Preis auf Anfrage</td>\n",
       "      <td>«Ihr neuer Wohntraum im Tower55 - Oerlikon»</td>\n",
       "      <td>3,5 Zimmer, 86 m², Preis auf AnfrageHagenholzs...</td>\n",
       "      <td>3.5</td>\n",
       "      <td>86</td>\n",
       "      <td>&lt;NA&gt;</td>\n",
       "    </tr>\n",
       "    <tr>\n",
       "      <th>991</th>\n",
       "      <td>1662023798-1242</td>\n",
       "      <td>https://www.immoscout24.ch/de/wohnung/mieten/k...</td>\n",
       "      <td>4,5 Zimmer, CHF 1650.—</td>\n",
       "      <td>Kirchstr. 2, 8353 Elgg, ZH</td>\n",
       "      <td>CHF 1650.—</td>\n",
       "      <td>«Geräumige 4.5-Zimmmerwohnung mit riesengrosse...</td>\n",
       "      <td>top4,5 Zimmer, CHF 1650.—Kirchstr. 2, 8353 Elg...</td>\n",
       "      <td>4.5</td>\n",
       "      <td>&lt;NA&gt;</td>\n",
       "      <td>1650</td>\n",
       "    </tr>\n",
       "  </tbody>\n",
       "</table>\n",
       "<p>92 rows × 10 columns</p>\n",
       "</div>"
      ],
      "text/plain": [
       "    web-scraper-order                              web-scraper-start-url  \\\n",
       "36     1662023723-650  https://www.immoscout24.ch/de/wohnung/mieten/k...   \n",
       "45     1662023711-562  https://www.immoscout24.ch/de/wohnung/mieten/k...   \n",
       "50     1662023701-502  https://www.immoscout24.ch/de/wohnung/mieten/k...   \n",
       "58     1662023711-557  https://www.immoscout24.ch/de/wohnung/mieten/k...   \n",
       "67     1662023752-877  https://www.immoscout24.ch/de/wohnung/mieten/k...   \n",
       "..                ...                                                ...   \n",
       "950    1662023742-794  https://www.immoscout24.ch/de/wohnung/mieten/k...   \n",
       "952   1662023780-1098  https://www.immoscout24.ch/de/wohnung/mieten/k...   \n",
       "958    1662023727-696  https://www.immoscout24.ch/de/wohnung/mieten/k...   \n",
       "979    1662023723-649  https://www.immoscout24.ch/de/wohnung/mieten/k...   \n",
       "991   1662023798-1242  https://www.immoscout24.ch/de/wohnung/mieten/k...   \n",
       "\n",
       "                     rooms_area_price_raw  \\\n",
       "36                   5 Zimmer, CHF 2495.—   \n",
       "45                   3 Zimmer, CHF 1250.—   \n",
       "50                   3 Zimmer, CHF 1850.—   \n",
       "58                   2 Zimmer, CHF 1700.—   \n",
       "67                             CHF 1500.—   \n",
       "..                                    ...   \n",
       "950                5,5 Zimmer, CHF 2100.—   \n",
       "952                4,5 Zimmer, CHF 1900.—   \n",
       "958  2,5 Zimmer, 67 m², Preis auf Anfrage   \n",
       "979  3,5 Zimmer, 86 m², Preis auf Anfrage   \n",
       "991                4,5 Zimmer, CHF 1650.—   \n",
       "\n",
       "                                     address_raw          price_raw  \\\n",
       "36        Grossackerstrasse 102, 8041 Zürich, ZH         CHF 2495.—   \n",
       "45         Trüllergasse 15, 8245 Feuerthalen, ZH         CHF 1250.—   \n",
       "50   Zürcherstrasse 71, 8102 Oberengstringen, ZH         CHF 1850.—   \n",
       "58                            8113 Boppelsen, ZH         CHF 1700.—   \n",
       "67            Flurstrasse 12/14, 8302 Kloten, ZH         CHF 1500.—   \n",
       "..                                           ...                ...   \n",
       "950                                8632 Tann, ZH         CHF 2100.—   \n",
       "952          Gertrudstrasse 7, 8953 Dietikon, ZH         CHF 1900.—   \n",
       "958         Hagenholzstrasse 55, 8050 Zürich, ZH  Preis auf Anfrage   \n",
       "979         Hagenholzstrasse 55, 8050 Zürich, ZH  Preis auf Anfrage   \n",
       "991                   Kirchstr. 2, 8353 Elgg, ZH         CHF 1650.—   \n",
       "\n",
       "                                       description_raw  \\\n",
       "36                        «5-Zimmer-Wohnung im Grünen»   \n",
       "45                                   «Wohnen am Rhein»   \n",
       "50          «Sanierte Wohnung am Stadtrand von Zürich»   \n",
       "58                    «GROSSZÜGIG MIT GARTENSITZPLATZ»   \n",
       "67   «Ihr Business Apartment möbliert und per sofor...   \n",
       "..                                                 ...   \n",
       "950  «New price! LETZTE WOHNUNG: HELL, RENOVIERT, Z...   \n",
       "952                    «Gemütliche 4.5-Zimmer Wohnung»   \n",
       "958       «Exklusive Apartments im Tower55 - Oerlikon»   \n",
       "979        «Ihr neuer Wohntraum im Tower55 - Oerlikon»   \n",
       "991  «Geräumige 4.5-Zimmmerwohnung mit riesengrosse...   \n",
       "\n",
       "                                              text_raw  rooms  area  price  \n",
       "36   5 Zimmer, CHF 2495.—Grossackerstrasse 102, 804...    5.0  <NA>   2495  \n",
       "45   3 Zimmer, CHF 1250.—Trüllergasse 15, 8245 Feue...    3.0  <NA>   1250  \n",
       "50   3 Zimmer, CHF 1850.—Zürcherstrasse 71, 8102 Ob...    3.0  <NA>   1850  \n",
       "58   2 Zimmer, CHF 1700.—8113 Boppelsen, ZH«GROSSZÜ...    2.0  <NA>   1700  \n",
       "67   CHF 1500.—Flurstrasse 12/14, 8302 Kloten, ZH«I...    NaN  <NA>   1500  \n",
       "..                                                 ...    ...   ...    ...  \n",
       "950  5,5 Zimmer, CHF 2100.—8632 Tann, ZH«New price!...    5.5  <NA>   2100  \n",
       "952  4,5 Zimmer, CHF 1900.—Gertrudstrasse 7, 8953 D...    4.5  <NA>   1900  \n",
       "958  2,5 Zimmer, 67 m², Preis auf AnfrageHagenholzs...    2.5    67   <NA>  \n",
       "979  3,5 Zimmer, 86 m², Preis auf AnfrageHagenholzs...    3.5    86   <NA>  \n",
       "991  top4,5 Zimmer, CHF 1650.—Kirchstr. 2, 8353 Elg...    4.5  <NA>   1650  \n",
       "\n",
       "[92 rows x 10 columns]"
      ]
     },
     "execution_count": 9,
     "metadata": {},
     "output_type": "execute_result"
    }
   ],
   "source": [
    "# Count missing values\n",
    "print(pd.isna(df).sum())\n",
    "\n",
    "# Identify rows with missing values\n",
    "df[df.isna().any(axis=1)]"
   ]
  },
  {
   "cell_type": "markdown",
   "id": "92641a30",
   "metadata": {},
   "source": [
    "## Count and identify duplicated values (if any)"
   ]
  },
  {
   "cell_type": "code",
   "execution_count": 10,
   "id": "cc6214d8",
   "metadata": {},
   "outputs": [
    {
     "name": "stdout",
     "output_type": "stream",
     "text": [
      "0\n"
     ]
    },
    {
     "data": {
      "text/html": [
       "<div>\n",
       "<style scoped>\n",
       "    .dataframe tbody tr th:only-of-type {\n",
       "        vertical-align: middle;\n",
       "    }\n",
       "\n",
       "    .dataframe tbody tr th {\n",
       "        vertical-align: top;\n",
       "    }\n",
       "\n",
       "    .dataframe thead th {\n",
       "        text-align: right;\n",
       "    }\n",
       "</style>\n",
       "<table border=\"1\" class=\"dataframe\">\n",
       "  <thead>\n",
       "    <tr style=\"text-align: right;\">\n",
       "      <th></th>\n",
       "      <th>web-scraper-order</th>\n",
       "      <th>web-scraper-start-url</th>\n",
       "      <th>rooms_area_price_raw</th>\n",
       "      <th>address_raw</th>\n",
       "      <th>price_raw</th>\n",
       "      <th>description_raw</th>\n",
       "      <th>text_raw</th>\n",
       "      <th>rooms</th>\n",
       "      <th>area</th>\n",
       "      <th>price</th>\n",
       "    </tr>\n",
       "  </thead>\n",
       "  <tbody>\n",
       "  </tbody>\n",
       "</table>\n",
       "</div>"
      ],
      "text/plain": [
       "Empty DataFrame\n",
       "Columns: [web-scraper-order, web-scraper-start-url, rooms_area_price_raw, address_raw, price_raw, description_raw, text_raw, rooms, area, price]\n",
       "Index: []"
      ]
     },
     "execution_count": 10,
     "metadata": {},
     "output_type": "execute_result"
    }
   ],
   "source": [
    "# Count duplicated values\n",
    "print(df.duplicated().sum())\n",
    "\n",
    "# Identify rows with duplicated values, e.g.:\n",
    "df[df[['web-scraper-order', 'price_raw', 'address_raw']].duplicated()]"
   ]
  },
  {
   "cell_type": "markdown",
   "id": "165f8f9f",
   "metadata": {},
   "source": [
    "### Save data to file"
   ]
  },
  {
   "cell_type": "code",
   "execution_count": 11,
   "id": "3c2773d3",
   "metadata": {},
   "outputs": [],
   "source": [
    "df.to_csv('apartments_data_prepared.csv', \n",
    "          sep=\",\", \n",
    "          encoding='utf-8',\n",
    "          index=False)"
   ]
  },
  {
   "cell_type": "markdown",
   "id": "86257783",
   "metadata": {},
   "source": [
    "### Jupyter notebook --footer info-- (please always provide this at the end of each submitted notebook)"
   ]
  },
  {
   "cell_type": "code",
   "execution_count": 12,
   "id": "7f5bf8aa",
   "metadata": {},
   "outputs": [
    {
     "name": "stdout",
     "output_type": "stream",
     "text": [
      "-----------------------------------\n",
      "POSIX\n",
      "Darwin | 21.6.0\n",
      "Datetime: 2022-09-30 16:20:28\n",
      "Python Version: 3.9.13\n",
      "-----------------------------------\n"
     ]
    }
   ],
   "source": [
    "import os\n",
    "import platform\n",
    "import socket\n",
    "from platform import python_version\n",
    "from datetime import datetime\n",
    "\n",
    "print('-----------------------------------')\n",
    "print(os.name.upper())\n",
    "print(platform.system(), '|', platform.release())\n",
    "print('Datetime:', datetime.now().strftime(\"%Y-%m-%d %H:%M:%S\"))\n",
    "print('Python Version:', python_version())\n",
    "print('-----------------------------------')"
   ]
  }
 ],
 "metadata": {
  "kernelspec": {
   "display_name": "Python 3 (ipykernel)",
   "language": "python",
   "name": "python3"
  },
  "language_info": {
   "codemirror_mode": {
    "name": "ipython",
    "version": 3
   },
   "file_extension": ".py",
   "mimetype": "text/x-python",
   "name": "python",
   "nbconvert_exporter": "python",
   "pygments_lexer": "ipython3",
   "version": "3.9.13"
  }
 },
 "nbformat": 4,
 "nbformat_minor": 5
}
