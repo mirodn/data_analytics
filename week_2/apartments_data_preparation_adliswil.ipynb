{
 "cells": [
  {
   "cell_type": "markdown",
   "id": "3272230e",
   "metadata": {},
   "source": [
    "# Importing and preparing rental apartments data"
   ]
  },
  {
   "cell_type": "markdown",
   "id": "c0e6a164",
   "metadata": {},
   "source": [
    "## Libraries and settings"
   ]
  },
  {
   "cell_type": "code",
   "execution_count": 1,
   "id": "e3b51c23",
   "metadata": {},
   "outputs": [],
   "source": [
    "# Libraries\n",
    "import os\n",
    "import re\n",
    "import time\n",
    "import fnmatch\n",
    "import numpy as np\n",
    "import pandas as pd\n",
    "\n",
    "# Ignore warnings\n",
    "import warnings\n",
    "warnings.filterwarnings(\"ignore\")"
   ]
  },
  {
   "cell_type": "markdown",
   "id": "2a7bff4a",
   "metadata": {},
   "source": [
    "## Importing data"
   ]
  },
  {
   "cell_type": "code",
   "execution_count": 2,
   "id": "aa8f37dd",
   "metadata": {
    "scrolled": true
   },
   "outputs": [
    {
     "name": "stdout",
     "output_type": "stream",
     "text": [
      "/Users/miroduman/Desktop/data analytics/Woche_2\n",
      "supermarkets_data_prepared.csv\n",
      "apartments_data_adliswil.csv\n",
      "apartments_data_prepared.csv\n",
      "apartments_data_preparedA.csv\n"
     ]
    }
   ],
   "source": [
    "# Get current working directory\n",
    "print(os.getcwd())\n",
    "\n",
    "# Show all files in the directory\n",
    "flist = fnmatch.filter(os.listdir('.'), '*.csv')\n",
    "for i in flist:\n",
    "    print(i)\n",
    "\n",
    "# Read the data to a pandas data frame\n",
    "df = pd.read_csv('apartments_data_adliswil.csv', sep=',', encoding='utf-8')"
   ]
  },
  {
   "cell_type": "markdown",
   "id": "b95e9f0e",
   "metadata": {},
   "source": [
    "## Count number of rows and columns in the data frame"
   ]
  },
  {
   "cell_type": "code",
   "execution_count": 3,
   "id": "ec7391ad",
   "metadata": {},
   "outputs": [
    {
     "name": "stdout",
     "output_type": "stream",
     "text": [
      "Dimension: (23, 7)\n",
      "Number of rows: 23\n",
      "Number of columns: 7\n"
     ]
    }
   ],
   "source": [
    "# Dimension (rows, columns)\n",
    "print('Dimension:', df.shape)\n",
    "\n",
    "# Number of rows\n",
    "print('Number of rows:', df.shape[0])\n",
    "\n",
    "# Number of columns\n",
    "print('Number of columns:', df.shape[1])"
   ]
  },
  {
   "cell_type": "markdown",
   "id": "ace6d22c",
   "metadata": {},
   "source": [
    "## Get data types (raw-format from web scraping)"
   ]
  },
  {
   "cell_type": "code",
   "execution_count": 4,
   "id": "dd9244a5",
   "metadata": {},
   "outputs": [
    {
     "data": {
      "text/plain": [
       "web-scraper-order        object\n",
       "web-scraper-start-url    object\n",
       "rooms_area_price_raw     object\n",
       "address_raw              object\n",
       "price_raw                object\n",
       "description_raw          object\n",
       "text_raw                 object\n",
       "dtype: object"
      ]
     },
     "execution_count": 4,
     "metadata": {},
     "output_type": "execute_result"
    }
   ],
   "source": [
    "# Get data types (note that in pandas, a string is referred to as 'object')\n",
    "df.dtypes"
   ]
  },
  {
   "cell_type": "markdown",
   "id": "9ea951fd",
   "metadata": {},
   "source": [
    "## Extract and save relevant information from raw data using regular expressions (regex)"
   ]
  },
  {
   "cell_type": "markdown",
   "id": "7c3be629",
   "metadata": {},
   "source": [
    "### Extract number of rooms"
   ]
  },
  {
   "cell_type": "code",
   "execution_count": 5,
   "id": "1c543c59",
   "metadata": {},
   "outputs": [
    {
     "name": "stdout",
     "output_type": "stream",
     "text": [
      "0    2,5 Zimmer, 71 m², CHF 1500.—\n",
      "1      4 Zimmer, 90 m², CHF 2030.—\n",
      "2       1 Zimmer, 22 m², CHF 770.—\n",
      "3    2,5 Zimmer, 70 m², CHF 1740.—\n",
      "4    3,5 Zimmer, 70 m², CHF 1950.—\n",
      "Name: rooms_area_price_raw, dtype: object \n",
      "\n",
      "0    2.5\n",
      "1    4.0\n",
      "2    1.0\n",
      "3    2.5\n",
      "4    3.5\n",
      "Name: rooms, dtype: float64\n"
     ]
    }
   ],
   "source": [
    "# Extract values from 'rooms_area_price_raw' strings\n",
    "rooms = []\n",
    "for i in df['rooms_area_price_raw']:\n",
    "    d1 = re.findall('(.*)Zimmer', i)\n",
    "    try:\n",
    "        d2 = d1[0].strip().replace(',', '.')\n",
    "    except:\n",
    "        d2 = None\n",
    "    rooms.append(d2)\n",
    "\n",
    "# Save as new variable in the pandas data frame\n",
    "df['rooms'] = pd.Series(rooms, dtype=\"float64\")\n",
    "    \n",
    "# Print first 5 values\n",
    "print(df['rooms_area_price_raw'].head(5), '\\n')\n",
    "print(df['rooms'].head(5))"
   ]
  },
  {
   "cell_type": "markdown",
   "id": "d7f049dc",
   "metadata": {},
   "source": [
    "### Extract living area"
   ]
  },
  {
   "cell_type": "code",
   "execution_count": 6,
   "id": "85bc7408",
   "metadata": {},
   "outputs": [
    {
     "name": "stdout",
     "output_type": "stream",
     "text": [
      "0    2,5 Zimmer, 71 m², CHF 1500.—\n",
      "1      4 Zimmer, 90 m², CHF 2030.—\n",
      "2       1 Zimmer, 22 m², CHF 770.—\n",
      "3    2,5 Zimmer, 70 m², CHF 1740.—\n",
      "4    3,5 Zimmer, 70 m², CHF 1950.—\n",
      "Name: rooms_area_price_raw, dtype: object \n",
      "\n",
      "0    71\n",
      "1    90\n",
      "2    22\n",
      "3    70\n",
      "4    70\n",
      "Name: area, dtype: Int64\n"
     ]
    }
   ],
   "source": [
    "# Extract values from 'rooms_area_price_raw' strings\n",
    "area = []\n",
    "for i in df['rooms_area_price_raw']:\n",
    "    d1 = re.findall('Zimmer, (.*)m²', i)\n",
    "    try:\n",
    "        d2 = d1[0].strip()\n",
    "    except:\n",
    "        d2 = None\n",
    "    area.append(d2)\n",
    "\n",
    "# Save as new variable in the pandas data frame\n",
    "df['area'] = pd.Series(area, dtype=\"Int64\")\n",
    "\n",
    "# Print first 5 values\n",
    "print(df['rooms_area_price_raw'].head(5), '\\n')\n",
    "print(df['area'].head(5))"
   ]
  },
  {
   "cell_type": "markdown",
   "id": "319ca1bd",
   "metadata": {},
   "source": [
    "### Extract rental price"
   ]
  },
  {
   "cell_type": "code",
   "execution_count": 7,
   "id": "97bba5d3",
   "metadata": {},
   "outputs": [
    {
     "name": "stdout",
     "output_type": "stream",
     "text": [
      "0    CHF 1500.—\n",
      "1    CHF 2030.—\n",
      "2     CHF 770.—\n",
      "3    CHF 1740.—\n",
      "4    CHF 1950.—\n",
      "Name: price_raw, dtype: object \n",
      "\n",
      "0    1500\n",
      "1    2030\n",
      "2     770\n",
      "3    1740\n",
      "4    1950\n",
      "Name: price, dtype: Int64\n"
     ]
    }
   ],
   "source": [
    "# Extract values from 'price_raw' strings\n",
    "price = []\n",
    "for i in df['price_raw']:\n",
    "    d1 = re.findall('[0-9]+', i)\n",
    "    try:\n",
    "        d2 = d1[0].strip()\n",
    "    except:\n",
    "        d2 = None\n",
    "    price.append(d2)\n",
    "\n",
    "# Save as new variable in the pandas data frame\n",
    "df['price'] = pd.Series(price, dtype=\"Int64\")\n",
    "\n",
    "# Print first 5 values\n",
    "print(df['price_raw'].head(5), '\\n')\n",
    "print(df['price'].head(5))"
   ]
  },
  {
   "cell_type": "markdown",
   "id": "53c03c80",
   "metadata": {},
   "source": [
    "### Get data types of all variables including the new ones"
   ]
  },
  {
   "cell_type": "code",
   "execution_count": 8,
   "id": "e2bc73f4",
   "metadata": {},
   "outputs": [
    {
     "data": {
      "text/plain": [
       "web-scraper-order         object\n",
       "web-scraper-start-url     object\n",
       "rooms_area_price_raw      object\n",
       "address_raw               object\n",
       "price_raw                 object\n",
       "description_raw           object\n",
       "text_raw                  object\n",
       "rooms                    float64\n",
       "area                       Int64\n",
       "price                      Int64\n",
       "dtype: object"
      ]
     },
     "execution_count": 8,
     "metadata": {},
     "output_type": "execute_result"
    }
   ],
   "source": [
    "df.dtypes"
   ]
  },
  {
   "cell_type": "markdown",
   "id": "bad3c2d0",
   "metadata": {},
   "source": [
    "## Count and identify missing values (if any)"
   ]
  },
  {
   "cell_type": "code",
   "execution_count": 9,
   "id": "707adcf1",
   "metadata": {},
   "outputs": [
    {
     "name": "stdout",
     "output_type": "stream",
     "text": [
      "web-scraper-order        0\n",
      "web-scraper-start-url    0\n",
      "rooms_area_price_raw     0\n",
      "address_raw              0\n",
      "price_raw                0\n",
      "description_raw          0\n",
      "text_raw                 0\n",
      "rooms                    0\n",
      "area                     2\n",
      "price                    0\n",
      "dtype: int64\n"
     ]
    },
    {
     "data": {
      "text/html": [
       "<div>\n",
       "<style scoped>\n",
       "    .dataframe tbody tr th:only-of-type {\n",
       "        vertical-align: middle;\n",
       "    }\n",
       "\n",
       "    .dataframe tbody tr th {\n",
       "        vertical-align: top;\n",
       "    }\n",
       "\n",
       "    .dataframe thead th {\n",
       "        text-align: right;\n",
       "    }\n",
       "</style>\n",
       "<table border=\"1\" class=\"dataframe\">\n",
       "  <thead>\n",
       "    <tr style=\"text-align: right;\">\n",
       "      <th></th>\n",
       "      <th>web-scraper-order</th>\n",
       "      <th>web-scraper-start-url</th>\n",
       "      <th>rooms_area_price_raw</th>\n",
       "      <th>address_raw</th>\n",
       "      <th>price_raw</th>\n",
       "      <th>description_raw</th>\n",
       "      <th>text_raw</th>\n",
       "      <th>rooms</th>\n",
       "      <th>area</th>\n",
       "      <th>price</th>\n",
       "    </tr>\n",
       "  </thead>\n",
       "  <tbody>\n",
       "    <tr>\n",
       "      <th>17</th>\n",
       "      <td>1662029560-20</td>\n",
       "      <td>https://www.immoscout24.ch/de/immobilien/miete...</td>\n",
       "      <td>4,5 Zimmer, CHF 3020.—</td>\n",
       "      <td>Salamanderweg 2, 8134 Adliswil, ZH</td>\n",
       "      <td>CHF 3020.—</td>\n",
       "      <td>«Nur noch wenige freie 4.5-Zimmer-Wohnungen»</td>\n",
       "      <td>4,5 Zimmer, CHF 3020.—Salamanderweg 2, 8134 Ad...</td>\n",
       "      <td>4.5</td>\n",
       "      <td>&lt;NA&gt;</td>\n",
       "      <td>3020</td>\n",
       "    </tr>\n",
       "    <tr>\n",
       "      <th>22</th>\n",
       "      <td>1662029560-19</td>\n",
       "      <td>https://www.immoscout24.ch/de/immobilien/miete...</td>\n",
       "      <td>3,5 Zimmer, CHF 2710.—</td>\n",
       "      <td>Salamanderweg 2, 8134 Adliswil, ZH</td>\n",
       "      <td>CHF 2710.—</td>\n",
       "      <td>«Moderne Wohnungen mit spannenden Ausbaulinien»</td>\n",
       "      <td>3,5 Zimmer, CHF 2710.—Salamanderweg 2, 8134 Ad...</td>\n",
       "      <td>3.5</td>\n",
       "      <td>&lt;NA&gt;</td>\n",
       "      <td>2710</td>\n",
       "    </tr>\n",
       "  </tbody>\n",
       "</table>\n",
       "</div>"
      ],
      "text/plain": [
       "   web-scraper-order                              web-scraper-start-url  \\\n",
       "17     1662029560-20  https://www.immoscout24.ch/de/immobilien/miete...   \n",
       "22     1662029560-19  https://www.immoscout24.ch/de/immobilien/miete...   \n",
       "\n",
       "      rooms_area_price_raw                         address_raw   price_raw  \\\n",
       "17  4,5 Zimmer, CHF 3020.—  Salamanderweg 2, 8134 Adliswil, ZH  CHF 3020.—   \n",
       "22  3,5 Zimmer, CHF 2710.—  Salamanderweg 2, 8134 Adliswil, ZH  CHF 2710.—   \n",
       "\n",
       "                                    description_raw  \\\n",
       "17     «Nur noch wenige freie 4.5-Zimmer-Wohnungen»   \n",
       "22  «Moderne Wohnungen mit spannenden Ausbaulinien»   \n",
       "\n",
       "                                             text_raw  rooms  area  price  \n",
       "17  4,5 Zimmer, CHF 3020.—Salamanderweg 2, 8134 Ad...    4.5  <NA>   3020  \n",
       "22  3,5 Zimmer, CHF 2710.—Salamanderweg 2, 8134 Ad...    3.5  <NA>   2710  "
      ]
     },
     "execution_count": 9,
     "metadata": {},
     "output_type": "execute_result"
    }
   ],
   "source": [
    "# Count missing values\n",
    "print(pd.isna(df).sum())\n",
    "\n",
    "# Identify rows with missing values\n",
    "df[df.isna().any(axis=1)]"
   ]
  },
  {
   "cell_type": "markdown",
   "id": "92641a30",
   "metadata": {},
   "source": [
    "## Count and identify duplicated values (if any)"
   ]
  },
  {
   "cell_type": "code",
   "execution_count": 10,
   "id": "cc6214d8",
   "metadata": {},
   "outputs": [
    {
     "name": "stdout",
     "output_type": "stream",
     "text": [
      "0\n"
     ]
    },
    {
     "data": {
      "text/html": [
       "<div>\n",
       "<style scoped>\n",
       "    .dataframe tbody tr th:only-of-type {\n",
       "        vertical-align: middle;\n",
       "    }\n",
       "\n",
       "    .dataframe tbody tr th {\n",
       "        vertical-align: top;\n",
       "    }\n",
       "\n",
       "    .dataframe thead th {\n",
       "        text-align: right;\n",
       "    }\n",
       "</style>\n",
       "<table border=\"1\" class=\"dataframe\">\n",
       "  <thead>\n",
       "    <tr style=\"text-align: right;\">\n",
       "      <th></th>\n",
       "      <th>web-scraper-order</th>\n",
       "      <th>web-scraper-start-url</th>\n",
       "      <th>rooms_area_price_raw</th>\n",
       "      <th>address_raw</th>\n",
       "      <th>price_raw</th>\n",
       "      <th>description_raw</th>\n",
       "      <th>text_raw</th>\n",
       "      <th>rooms</th>\n",
       "      <th>area</th>\n",
       "      <th>price</th>\n",
       "    </tr>\n",
       "  </thead>\n",
       "  <tbody>\n",
       "  </tbody>\n",
       "</table>\n",
       "</div>"
      ],
      "text/plain": [
       "Empty DataFrame\n",
       "Columns: [web-scraper-order, web-scraper-start-url, rooms_area_price_raw, address_raw, price_raw, description_raw, text_raw, rooms, area, price]\n",
       "Index: []"
      ]
     },
     "execution_count": 10,
     "metadata": {},
     "output_type": "execute_result"
    }
   ],
   "source": [
    "# Count duplicated values\n",
    "print(df.duplicated().sum())\n",
    "\n",
    "# Identify rows with duplicated values, e.g.:\n",
    "df[df[['web-scraper-order', 'price_raw', 'address_raw']].duplicated()]"
   ]
  },
  {
   "cell_type": "markdown",
   "id": "165f8f9f",
   "metadata": {},
   "source": [
    "### Save data to file"
   ]
  },
  {
   "cell_type": "code",
   "execution_count": 11,
   "id": "3c2773d3",
   "metadata": {},
   "outputs": [],
   "source": [
    "df.to_csv('apartments_data_preparedA.csv', \n",
    "          sep=\",\", \n",
    "          encoding='utf-8',\n",
    "          index=False)"
   ]
  },
  {
   "cell_type": "markdown",
   "id": "86257783",
   "metadata": {},
   "source": [
    "### Jupyter notebook --footer info-- (please always provide this at the end of each submitted notebook)"
   ]
  },
  {
   "cell_type": "code",
   "execution_count": 12,
   "id": "7f5bf8aa",
   "metadata": {},
   "outputs": [
    {
     "name": "stdout",
     "output_type": "stream",
     "text": [
      "-----------------------------------\n",
      "POSIX\n",
      "Darwin | 21.6.0\n",
      "Datetime: 2022-09-30 16:12:27\n",
      "Python Version: 3.9.13\n",
      "-----------------------------------\n"
     ]
    }
   ],
   "source": [
    "import os\n",
    "import platform\n",
    "import socket\n",
    "from platform import python_version\n",
    "from datetime import datetime\n",
    "\n",
    "print('-----------------------------------')\n",
    "print(os.name.upper())\n",
    "print(platform.system(), '|', platform.release())\n",
    "print('Datetime:', datetime.now().strftime(\"%Y-%m-%d %H:%M:%S\"))\n",
    "print('Python Version:', python_version())\n",
    "print('-----------------------------------')"
   ]
  }
 ],
 "metadata": {
  "kernelspec": {
   "display_name": "Python 3 (ipykernel)",
   "language": "python",
   "name": "python3"
  },
  "language_info": {
   "codemirror_mode": {
    "name": "ipython",
    "version": 3
   },
   "file_extension": ".py",
   "mimetype": "text/x-python",
   "name": "python",
   "nbconvert_exporter": "python",
   "pygments_lexer": "ipython3",
   "version": "3.9.13"
  }
 },
 "nbformat": 4,
 "nbformat_minor": 5
}
