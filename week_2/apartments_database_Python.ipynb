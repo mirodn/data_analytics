{
 "cells": [
  {
   "cell_type": "markdown",
   "id": "spectacular-oxford",
   "metadata": {},
   "source": [
    "# Writing data to and reading data from a Database using Python"
   ]
  },
  {
   "cell_type": "markdown",
   "id": "14d7fbf5",
   "metadata": {},
   "source": [
    "## Libraries and settings"
   ]
  },
  {
   "cell_type": "code",
   "execution_count": 1,
   "id": "6b7c9af0",
   "metadata": {},
   "outputs": [],
   "source": [
    "# Libraries\n",
    "import os\n",
    "import sqlite3\n",
    "import fnmatch\n",
    "import numpy as np\n",
    "import pandas as pd\n",
    "import matplotlib.pyplot as plt\n",
    "\n",
    "# Ignore warnings\n",
    "import warnings\n",
    "warnings.filterwarnings(\"ignore\")"
   ]
  },
  {
   "cell_type": "markdown",
   "id": "0b880d4d",
   "metadata": {},
   "source": [
    "## Create sqlite data base"
   ]
  },
  {
   "cell_type": "code",
   "execution_count": 2,
   "id": "240f7517",
   "metadata": {},
   "outputs": [
    {
     "name": "stdout",
     "output_type": "stream",
     "text": [
      "/Users/miroduman/Desktop/data analytics/Woche_2\n",
      "apartment_database.db\n"
     ]
    }
   ],
   "source": [
    "# Get current working directory\n",
    "print(os.getcwd())\n",
    "\n",
    "# Create data base\n",
    "conn = sqlite3.connect('apartment_database.db') \n",
    "cursor = conn.cursor()\n",
    "\n",
    "# Show dbs in the directory\n",
    "flist = fnmatch.filter(os.listdir('.'), '*.db')\n",
    "for i in flist:\n",
    "    print(i)"
   ]
  },
  {
   "cell_type": "markdown",
   "id": "aff97772",
   "metadata": {},
   "source": [
    "## Create SQL-table in the database"
   ]
  },
  {
   "cell_type": "code",
   "execution_count": 3,
   "id": "a3d83cba",
   "metadata": {},
   "outputs": [],
   "source": [
    "cursor.execute('''CREATE TABLE IF NOT EXISTS apartments_table (OrderId VARCHAR(50),\n",
    "                                                                Rooms DECIMAL(8,2),\n",
    "                                                                Area INT(8),\n",
    "                                                                Price DECIMAL(8,2))''')\n",
    "# Confirm changes to the table\n",
    "conn.commit()"
   ]
  },
  {
   "cell_type": "markdown",
   "id": "a87c8dee",
   "metadata": {},
   "source": [
    "## Read data from file to data frame"
   ]
  },
  {
   "cell_type": "code",
   "execution_count": 4,
   "id": "34300bd6",
   "metadata": {},
   "outputs": [
    {
     "name": "stdout",
     "output_type": "stream",
     "text": [
      "(1008, 4)\n"
     ]
    },
    {
     "data": {
      "text/html": [
       "<div>\n",
       "<style scoped>\n",
       "    .dataframe tbody tr th:only-of-type {\n",
       "        vertical-align: middle;\n",
       "    }\n",
       "\n",
       "    .dataframe tbody tr th {\n",
       "        vertical-align: top;\n",
       "    }\n",
       "\n",
       "    .dataframe thead th {\n",
       "        text-align: right;\n",
       "    }\n",
       "</style>\n",
       "<table border=\"1\" class=\"dataframe\">\n",
       "  <thead>\n",
       "    <tr style=\"text-align: right;\">\n",
       "      <th></th>\n",
       "      <th>web-scraper-order</th>\n",
       "      <th>rooms</th>\n",
       "      <th>area</th>\n",
       "      <th>price</th>\n",
       "    </tr>\n",
       "  </thead>\n",
       "  <tbody>\n",
       "    <tr>\n",
       "      <th>0</th>\n",
       "      <td>1662023695-433</td>\n",
       "      <td>3.5</td>\n",
       "      <td>122.0</td>\n",
       "      <td>3180.0</td>\n",
       "    </tr>\n",
       "    <tr>\n",
       "      <th>1</th>\n",
       "      <td>1662023745-820</td>\n",
       "      <td>2.5</td>\n",
       "      <td>78.0</td>\n",
       "      <td>3760.0</td>\n",
       "    </tr>\n",
       "    <tr>\n",
       "      <th>2</th>\n",
       "      <td>1662023742-807</td>\n",
       "      <td>5.5</td>\n",
       "      <td>115.0</td>\n",
       "      <td>2860.0</td>\n",
       "    </tr>\n",
       "    <tr>\n",
       "      <th>3</th>\n",
       "      <td>1662023804-1290</td>\n",
       "      <td>3.5</td>\n",
       "      <td>74.0</td>\n",
       "      <td>2165.0</td>\n",
       "    </tr>\n",
       "    <tr>\n",
       "      <th>4</th>\n",
       "      <td>1662023739-771</td>\n",
       "      <td>5.5</td>\n",
       "      <td>195.0</td>\n",
       "      <td>6900.0</td>\n",
       "    </tr>\n",
       "  </tbody>\n",
       "</table>\n",
       "</div>"
      ],
      "text/plain": [
       "  web-scraper-order  rooms   area   price\n",
       "0    1662023695-433    3.5  122.0  3180.0\n",
       "1    1662023745-820    2.5   78.0  3760.0\n",
       "2    1662023742-807    5.5  115.0  2860.0\n",
       "3   1662023804-1290    3.5   74.0  2165.0\n",
       "4    1662023739-771    5.5  195.0  6900.0"
      ]
     },
     "execution_count": 4,
     "metadata": {},
     "output_type": "execute_result"
    }
   ],
   "source": [
    "df = pd.read_csv('apartments_data_prepared.csv', \n",
    "                  sep=',', \n",
    "                  encoding='utf-8')[['web-scraper-order', 'rooms', 'area', 'price']]\n",
    "print(df.shape)\n",
    "df.head(5)"
   ]
  },
  {
   "cell_type": "markdown",
   "id": "ef970dfe",
   "metadata": {},
   "source": [
    "## Write data to the SQL-table in data base"
   ]
  },
  {
   "cell_type": "code",
   "execution_count": 5,
   "id": "1c728ac7",
   "metadata": {},
   "outputs": [
    {
     "data": {
      "text/plain": [
       "1008"
      ]
     },
     "execution_count": 5,
     "metadata": {},
     "output_type": "execute_result"
    }
   ],
   "source": [
    "df.to_sql(name = 'apartments_table',\n",
    "          con = conn,\n",
    "          index = False,\n",
    "          if_exists = 'replace')"
   ]
  },
  {
   "cell_type": "markdown",
   "id": "43c2ef9f",
   "metadata": {},
   "source": [
    "## Query the SQL-table"
   ]
  },
  {
   "cell_type": "code",
   "execution_count": 6,
   "id": "48dcc02c",
   "metadata": {},
   "outputs": [
    {
     "name": "stdout",
     "output_type": "stream",
     "text": [
      "             OrderId  Rooms   Area   Price\n",
      "0     1662023695-433    3.5  122.0  3180.0\n",
      "1     1662023742-807    5.5  115.0  2860.0\n",
      "2    1662023804-1290    3.5   74.0  2165.0\n",
      "3     1662023739-771    5.5  195.0  6900.0\n",
      "4     1662023686-384    3.0   75.0  3003.0\n",
      "..               ...    ...    ...     ...\n",
      "633   1662023730-697    3.0   68.0  1750.0\n",
      "634   1662023714-580    3.0   64.0  2370.0\n",
      "635   1662023749-858    5.5  123.0  2550.0\n",
      "636  1662023783-1112    3.5   70.0  2190.0\n",
      "637   1662023749-853    3.5   96.0  2260.0\n",
      "\n",
      "[638 rows x 4 columns]\n"
     ]
    }
   ],
   "source": [
    "# Query the SQL-table\n",
    "cursor.execute('''SELECT * \n",
    "                FROM apartments_table \n",
    "                WHERE Rooms >= 3.0 \n",
    "                AND Price > 1500''')\n",
    "\n",
    "df = pd.DataFrame(cursor.fetchall(), \n",
    "                  columns=['OrderId','Rooms','Area','Price'])    \n",
    "print(df)"
   ]
  },
  {
   "cell_type": "markdown",
   "id": "0cc2274f",
   "metadata": {},
   "source": [
    "## Plot histogramm of rental prices"
   ]
  },
  {
   "cell_type": "code",
   "execution_count": 7,
   "id": "60146b13",
   "metadata": {},
   "outputs": [
    {
     "data": {
      "image/png": "[encoded data removed]",
      "text/plain": [
       "<Figure size 640x480 with 1 Axes>"
      ]
     },
     "metadata": {},
     "output_type": "display_data"
    }
   ],
   "source": [
    "df.Price.plot.hist(grid=True, \n",
    "                   bins=20, \n",
    "                   rwidth=0.9,\n",
    "                   color='#607c8e')\n",
    "plt.title('Apartment price')\n",
    "plt.xlabel('Price')\n",
    "plt.ylabel('Frequency')\n",
    "plt.grid(axis='y', alpha=0.75)\n",
    "\n",
    "#conn.close()"
   ]
  },
  {
   "cell_type": "markdown",
   "id": "e847eb93",
   "metadata": {},
   "source": [
    "### Jupyter notebook --footer info-- (please always provide this at the end of each submitted notebook)"
   ]
  },
  {
   "cell_type": "code",
   "execution_count": 8,
   "id": "8e706987",
   "metadata": {},
   "outputs": [
    {
     "name": "stdout",
     "output_type": "stream",
     "text": [
      "-----------------------------------\n",
      "POSIX\n",
      "Darwin | 21.6.0\n",
      "Datetime: 2022-09-30 16:23:06\n",
      "Python Version: 3.9.13\n",
      "-----------------------------------\n"
     ]
    }
   ],
   "source": [
    "import os\n",
    "import platform\n",
    "import socket\n",
    "from platform import python_version\n",
    "from datetime import datetime\n",
    "\n",
    "print('-----------------------------------')\n",
    "print(os.name.upper())\n",
    "print(platform.system(), '|', platform.release())\n",
    "print('Datetime:', datetime.now().strftime(\"%Y-%m-%d %H:%M:%S\"))\n",
    "print('Python Version:', python_version())\n",
    "print('-----------------------------------')"
   ]
  },
  {
   "cell_type": "markdown",
   "id": "0b2efeec",
   "metadata": {},
   "source": [
    "### Additional SQL-queries"
   ]
  },
  {
   "cell_type": "code",
   "execution_count": 9,
   "id": "6fe71bcb",
   "metadata": {},
   "outputs": [
    {
     "name": "stdout",
     "output_type": "stream",
     "text": [
      "             OrderId  Rooms   Area   Price\n",
      "0     1662023742-807    5.5  115.0  2860.0\n",
      "1     1662023739-771    5.5  195.0  6900.0\n",
      "2     1662023727-685    4.5  124.0  4460.0\n",
      "3     1662023730-704    4.5  100.0  1880.0\n",
      "4     1662023689-402    4.5  109.0  2380.0\n",
      "..               ...    ...    ...     ...\n",
      "176  1662023813-1358    4.5  115.0  2580.0\n",
      "177  1662023795-1213    4.5  117.0  2180.0\n",
      "178  1662023786-1151    5.5  162.0  2210.0\n",
      "179   1662023692-428    4.5  127.0  2820.0\n",
      "180   1662023749-858    5.5  123.0  2550.0\n",
      "\n",
      "[181 rows x 4 columns]\n"
     ]
    }
   ],
   "source": [
    "# Query the SQL-table\n",
    "cursor.execute('''SELECT * \n",
    "                FROM apartments_table \n",
    "                WHERE Rooms >= 4.0 \n",
    "                AND Area >= 100''')\n",
    "\n",
    "df = pd.DataFrame(cursor.fetchall(), \n",
    "                  columns=['OrderId','Rooms','Area','Price'])    \n",
    "print(df)"
   ]
  },
  {
   "cell_type": "code",
   "execution_count": 10,
   "id": "97b05576",
   "metadata": {},
   "outputs": [
    {
     "name": "stdout",
     "output_type": "stream",
     "text": [
      "    Rooms   Mean_Price\n",
      "0     NaN  1950.300000\n",
      "1     1.0  1489.607843\n",
      "2     1.5  1898.509804\n",
      "3     2.0  1649.785714\n",
      "4     2.5  2276.822485\n",
      "5     3.0  1803.171053\n",
      "6     3.5  2347.770833\n",
      "7     4.0  2245.927273\n",
      "8     4.5  2663.706468\n",
      "9     5.0  3077.125000\n",
      "10    5.5  2933.085714\n",
      "11    6.0  4240.000000\n",
      "12    6.5  4436.666667\n",
      "13    7.0  4220.000000\n",
      "14    9.0  4000.000000\n"
     ]
    }
   ],
   "source": [
    "#Query the SQL-Table\n",
    "cursor.execute('''SELECT rooms, AVG(price) \n",
    "                FROM apartments_table \n",
    "                GROUP BY rooms''')\n",
    "\n",
    "df = pd.DataFrame(cursor.fetchall(), \n",
    "                  columns=['Rooms','Mean_Price'])    \n",
    "print(df)\n",
    "\n"
   ]
  },
  {
   "cell_type": "code",
   "execution_count": 11,
   "id": "f77d8323",
   "metadata": {},
   "outputs": [
    {
     "name": "stdout",
     "output_type": "stream",
     "text": [
      "    Rooms   Mean_Area\n",
      "0     NaN         NaN\n",
      "1     1.0   41.936170\n",
      "2     1.5   61.173913\n",
      "3     2.0   56.054054\n",
      "4     2.5   69.006250\n",
      "5     3.0   68.597015\n",
      "6     3.5   87.100358\n",
      "7     4.0   86.750000\n",
      "8     4.5  111.284946\n",
      "9     5.0  124.769231\n",
      "10    5.5  139.258065\n",
      "11    6.0  153.000000\n",
      "12    6.5  194.000000\n",
      "13    7.0         NaN\n",
      "14    9.0  300.000000\n"
     ]
    }
   ],
   "source": [
    "#Query the SQL-Table\n",
    "cursor.execute('''SELECT rooms, AVG(area) \n",
    "                FROM apartments_table \n",
    "                GROUP BY rooms''')\n",
    "\n",
    "df = pd.DataFrame(cursor.fetchall(), \n",
    "                  columns=['Rooms','Mean_Area'])    \n",
    "print(df)\n",
    "\n"
   ]
  }
 ],
 "metadata": {
  "kernelspec": {
   "display_name": "Python 3 (ipykernel)",
   "language": "python",
   "name": "python3"
  },
  "language_info": {
   "codemirror_mode": {
    "name": "ipython",
    "version": 3
   },
   "file_extension": ".py",
   "mimetype": "text/x-python",
   "name": "python",
   "nbconvert_exporter": "python",
   "pygments_lexer": "ipython3",
   "version": "3.9.13"
  }
 },
 "nbformat": 4,
 "nbformat_minor": 5
}
