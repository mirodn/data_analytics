{
 "cells": [
  {
   "cell_type": "markdown",
   "id": "3f5e976f",
   "metadata": {},
   "source": [
    "# Analysis of variance (ANOVA)"
   ]
  },
  {
   "cell_type": "markdown",
   "id": "9b881ea7",
   "metadata": {},
   "source": [
    "## Libraries and settings"
   ]
  },
  {
   "cell_type": "code",
   "execution_count": 1,
   "id": "288dd545",
   "metadata": {},
   "outputs": [
    {
     "name": "stdout",
     "output_type": "stream",
     "text": [
      "Current working directory: /Users/miroduman/Desktop/data analytics/week_6\n"
     ]
    }
   ],
   "source": [
    "# Libraries\n",
    "import os\n",
    "import pandas as pd\n",
    "import matplotlib.pyplot as plt\n",
    "import seaborn as sns\n",
    "import numpy as np\n",
    "import scipy.stats as stats\n",
    "\n",
    "# Settings for seaborn\n",
    "sns.set_theme(style=\"ticks\", palette=\"pastel\")\n",
    "\n",
    "# Ignore warnings\n",
    "import warnings\n",
    "warnings.filterwarnings(\"ignore\")\n",
    "\n",
    "# Get current working directory\n",
    "print('Current working directory:', os.getcwd())"
   ]
  },
  {
   "cell_type": "markdown",
   "id": "1fae2175",
   "metadata": {},
   "source": [
    "## Read example data (used car data)"
   ]
  },
  {
   "cell_type": "code",
   "execution_count": 2,
   "id": "3edcea41",
   "metadata": {},
   "outputs": [
    {
     "name": "stdout",
     "output_type": "stream",
     "text": [
      "VW      20\n",
      "BMW     20\n",
      "Fiat    20\n",
      "Name: Make, dtype: int64\n"
     ]
    },
    {
     "data": {
      "text/html": [
       "<div>\n",
       "<style scoped>\n",
       "    .dataframe tbody tr th:only-of-type {\n",
       "        vertical-align: middle;\n",
       "    }\n",
       "\n",
       "    .dataframe tbody tr th {\n",
       "        vertical-align: top;\n",
       "    }\n",
       "\n",
       "    .dataframe thead th {\n",
       "        text-align: right;\n",
       "    }\n",
       "</style>\n",
       "<table border=\"1\" class=\"dataframe\">\n",
       "  <thead>\n",
       "    <tr style=\"text-align: right;\">\n",
       "      <th></th>\n",
       "      <th>Make</th>\n",
       "      <th>Price</th>\n",
       "    </tr>\n",
       "  </thead>\n",
       "  <tbody>\n",
       "    <tr>\n",
       "      <th>0</th>\n",
       "      <td>VW</td>\n",
       "      <td>29000</td>\n",
       "    </tr>\n",
       "    <tr>\n",
       "      <th>1</th>\n",
       "      <td>VW</td>\n",
       "      <td>38000</td>\n",
       "    </tr>\n",
       "    <tr>\n",
       "      <th>2</th>\n",
       "      <td>VW</td>\n",
       "      <td>33000</td>\n",
       "    </tr>\n",
       "    <tr>\n",
       "      <th>3</th>\n",
       "      <td>VW</td>\n",
       "      <td>64000</td>\n",
       "    </tr>\n",
       "    <tr>\n",
       "      <th>4</th>\n",
       "      <td>VW</td>\n",
       "      <td>52000</td>\n",
       "    </tr>\n",
       "  </tbody>\n",
       "</table>\n",
       "</div>"
      ],
      "text/plain": [
       "  Make  Price\n",
       "0   VW  29000\n",
       "1   VW  38000\n",
       "2   VW  33000\n",
       "3   VW  64000\n",
       "4   VW  52000"
      ]
     },
     "execution_count": 2,
     "metadata": {},
     "output_type": "execute_result"
    }
   ],
   "source": [
    "# Read data\n",
    "df = pd.read_excel('t-tests_and_ANOVA.xlsx', sheet_name='anova_data')\n",
    "\n",
    "# Show categories of 'Make'\n",
    "print(df['Make'].value_counts())\n",
    "\n",
    "# Show header\n",
    "df.head()"
   ]
  },
  {
   "cell_type": "markdown",
   "id": "19c03873",
   "metadata": {},
   "source": [
    "## Create pivot table of mean price per make"
   ]
  },
  {
   "cell_type": "code",
   "execution_count": 3,
   "id": "ba003cb5",
   "metadata": {},
   "outputs": [
    {
     "name": "stdout",
     "output_type": "stream",
     "text": [
      "Make     BMW   Fiat     VW\n",
      "Price  54000  34000  41950\n"
     ]
    }
   ],
   "source": [
    "# Create pivot table\n",
    "table = pd.pivot_table(df, \n",
    "                       values='Price',\n",
    "                       columns=['Make'], \n",
    "                       aggfunc=np.mean)\n",
    "print(table)"
   ]
  },
  {
   "cell_type": "markdown",
   "id": "4fb64a25",
   "metadata": {},
   "source": [
    "## Create grouped boxplot (groups = make, values = prices)"
   ]
  },
  {
   "cell_type": "code",
   "execution_count": 4,
   "id": "7c078db1",
   "metadata": {},
   "outputs": [
    {
     "data": {
      "image/png": "[encoded data removed]",
      "text/plain": [
       "<Figure size 800x200 with 1 Axes>"
      ]
     },
     "metadata": {},
     "output_type": "display_data"
    }
   ],
   "source": [
    "# Plot boxplot with groups\n",
    "plt.figure(figsize=(8,2))\n",
    "ax = sns.boxplot(x=\"Price\",\n",
    "                 y=\"Make\",\n",
    "                 palette=['r', 'g', 'b'],\n",
    "                 data=df,\n",
    "                 orient='h')\n",
    "plt.grid()\n",
    "plt.show()"
   ]
  },
  {
   "cell_type": "markdown",
   "id": "aa5e5add",
   "metadata": {},
   "source": [
    "## ANOVA"
   ]
  },
  {
   "cell_type": "code",
   "execution_count": 5,
   "id": "f2f6e499",
   "metadata": {},
   "outputs": [
    {
     "name": "stdout",
     "output_type": "stream",
     "text": [
      "F-value: 9.791 p-value 0.0002\n"
     ]
    }
   ],
   "source": [
    "# Create subsets (groups)\n",
    "vw = df.loc[df['Make'] == 'VW']\n",
    "bmw = df.loc[df['Make'] == 'BMW']\n",
    "fiat = df.loc[df['Make'] == 'Fiat']\n",
    "\n",
    "# Create ANOVA\n",
    "fvalue, pvalue = stats.f_oneway(vw['Price'],\n",
    "                                fiat['Price'], \n",
    "                                bmw['Price'])\n",
    "\n",
    "# Print results\n",
    "print('F-value:', fvalue.round(3), 'p-value', pvalue.round(4))"
   ]
  },
  {
   "cell_type": "markdown",
   "id": "1d460d6b",
   "metadata": {},
   "source": [
    "## Interpretation of result"
   ]
  },
  {
   "cell_type": "markdown",
   "id": "f56681c7",
   "metadata": {},
   "source": [
    "<p> Because the p-value is lower than 0.05, the null hypothesis can be rejected, i.e. there is evidence that the used car prices of VW, BMW and Fiat differ. Note that, from the ANOVA, it is not clear which groups show differences of prices. For this a post-hoc test could be used (not part of the exercises).</p>"
   ]
  },
  {
   "cell_type": "markdown",
   "id": "cf81c86c",
   "metadata": {},
   "source": [
    "## Importing apartment data"
   ]
  },
  {
   "cell_type": "code",
   "execution_count": 6,
   "id": "0d9ecff5",
   "metadata": {},
   "outputs": [
    {
     "name": "stdout",
     "output_type": "stream",
     "text": [
      "(870, 9)\n"
     ]
    },
    {
     "data": {
      "text/html": [
       "<div>\n",
       "<style scoped>\n",
       "    .dataframe tbody tr th:only-of-type {\n",
       "        vertical-align: middle;\n",
       "    }\n",
       "\n",
       "    .dataframe tbody tr th {\n",
       "        vertical-align: top;\n",
       "    }\n",
       "\n",
       "    .dataframe thead th {\n",
       "        text-align: right;\n",
       "    }\n",
       "</style>\n",
       "<table border=\"1\" class=\"dataframe\">\n",
       "  <thead>\n",
       "    <tr style=\"text-align: right;\">\n",
       "      <th></th>\n",
       "      <th>web-scraper-order</th>\n",
       "      <th>pop_dens</th>\n",
       "      <th>address_raw</th>\n",
       "      <th>datetime</th>\n",
       "      <th>rooms</th>\n",
       "      <th>area</th>\n",
       "      <th>luxurious</th>\n",
       "      <th>price</th>\n",
       "      <th>price_per_m2</th>\n",
       "    </tr>\n",
       "  </thead>\n",
       "  <tbody>\n",
       "    <tr>\n",
       "      <th>0</th>\n",
       "      <td>1662023695-433</td>\n",
       "      <td>632.558140</td>\n",
       "      <td>Sunnenbergstrasse 15, 8633 Wolfhausen, ZH</td>\n",
       "      <td>2022-09-17 11:44:57</td>\n",
       "      <td>3.5</td>\n",
       "      <td>122</td>\n",
       "      <td>1</td>\n",
       "      <td>3180</td>\n",
       "      <td>26.07</td>\n",
       "    </tr>\n",
       "    <tr>\n",
       "      <th>1</th>\n",
       "      <td>1662023720-634</td>\n",
       "      <td>632.558140</td>\n",
       "      <td>Blumenbergstrasse 7, 8633 Wolfhausen, ZH</td>\n",
       "      <td>2022-09-17 11:44:57</td>\n",
       "      <td>4.0</td>\n",
       "      <td>87</td>\n",
       "      <td>0</td>\n",
       "      <td>1690</td>\n",
       "      <td>19.43</td>\n",
       "    </tr>\n",
       "    <tr>\n",
       "      <th>2</th>\n",
       "      <td>1662023745-834</td>\n",
       "      <td>632.558140</td>\n",
       "      <td>8608 Bubikon, ZH</td>\n",
       "      <td>2022-09-17 11:44:57</td>\n",
       "      <td>3.5</td>\n",
       "      <td>92</td>\n",
       "      <td>0</td>\n",
       "      <td>2350</td>\n",
       "      <td>25.54</td>\n",
       "    </tr>\n",
       "    <tr>\n",
       "      <th>3</th>\n",
       "      <td>1662023701-503</td>\n",
       "      <td>632.558140</td>\n",
       "      <td>8608 Bubikon, ZH</td>\n",
       "      <td>2022-09-17 11:44:57</td>\n",
       "      <td>3.5</td>\n",
       "      <td>130</td>\n",
       "      <td>0</td>\n",
       "      <td>2500</td>\n",
       "      <td>19.23</td>\n",
       "    </tr>\n",
       "    <tr>\n",
       "      <th>4</th>\n",
       "      <td>1662023745-820</td>\n",
       "      <td>4778.994655</td>\n",
       "      <td>Lavaterstr. 63, 8002 Zürich, ZH</td>\n",
       "      <td>2022-09-17 11:44:57</td>\n",
       "      <td>2.5</td>\n",
       "      <td>78</td>\n",
       "      <td>0</td>\n",
       "      <td>3760</td>\n",
       "      <td>48.21</td>\n",
       "    </tr>\n",
       "  </tbody>\n",
       "</table>\n",
       "</div>"
      ],
      "text/plain": [
       "  web-scraper-order     pop_dens                                address_raw  \\\n",
       "0    1662023695-433   632.558140  Sunnenbergstrasse 15, 8633 Wolfhausen, ZH   \n",
       "1    1662023720-634   632.558140   Blumenbergstrasse 7, 8633 Wolfhausen, ZH   \n",
       "2    1662023745-834   632.558140                           8608 Bubikon, ZH   \n",
       "3    1662023701-503   632.558140                           8608 Bubikon, ZH   \n",
       "4    1662023745-820  4778.994655            Lavaterstr. 63, 8002 Zürich, ZH   \n",
       "\n",
       "              datetime  rooms  area  luxurious  price  price_per_m2  \n",
       "0  2022-09-17 11:44:57    3.5   122          1   3180         26.07  \n",
       "1  2022-09-17 11:44:57    4.0    87          0   1690         19.43  \n",
       "2  2022-09-17 11:44:57    3.5    92          0   2350         25.54  \n",
       "3  2022-09-17 11:44:57    3.5   130          0   2500         19.23  \n",
       "4  2022-09-17 11:44:57    2.5    78          0   3760         48.21  "
      ]
     },
     "execution_count": 6,
     "metadata": {},
     "output_type": "execute_result"
    }
   ],
   "source": [
    "# Read the data to a pandas data frame\n",
    "df = pd.read_csv('apartments_data_enriched.csv', \n",
    "                 sep=',', \n",
    "                 encoding='utf-8')[['web-scraper-order', \n",
    "                                    'pop_dens',\n",
    "                                    'address_raw', \n",
    "                                    'datetime', \n",
    "                                    'rooms', \n",
    "                                    'area', \n",
    "                                    'luxurious',\n",
    "                                    'price',\n",
    "                                    'price_per_m2']]\n",
    "\n",
    "# Get number of rows and columns\n",
    "print(df.shape)\n",
    "\n",
    "# Show first records\n",
    "df.head(5)"
   ]
  },
  {
   "cell_type": "markdown",
   "id": "b302b2ab",
   "metadata": {},
   "source": [
    "## Create pivot table with mean price_per_m2 per room size"
   ]
  },
  {
   "cell_type": "code",
   "execution_count": 7,
   "id": "af5af519",
   "metadata": {},
   "outputs": [
    {
     "data": {
      "text/html": [
       "<div>\n",
       "<style scoped>\n",
       "    .dataframe tbody tr th:only-of-type {\n",
       "        vertical-align: middle;\n",
       "    }\n",
       "\n",
       "    .dataframe tbody tr th {\n",
       "        vertical-align: top;\n",
       "    }\n",
       "\n",
       "    .dataframe thead tr th {\n",
       "        text-align: left;\n",
       "    }\n",
       "\n",
       "    .dataframe thead tr:last-of-type th {\n",
       "        text-align: right;\n",
       "    }\n",
       "</style>\n",
       "<table border=\"1\" class=\"dataframe\">\n",
       "  <thead>\n",
       "    <tr>\n",
       "      <th></th>\n",
       "      <th>mean</th>\n",
       "      <th>count</th>\n",
       "    </tr>\n",
       "    <tr>\n",
       "      <th></th>\n",
       "      <th>price_per_m2</th>\n",
       "      <th>price_per_m2</th>\n",
       "    </tr>\n",
       "    <tr>\n",
       "      <th>rooms</th>\n",
       "      <th></th>\n",
       "      <th></th>\n",
       "    </tr>\n",
       "  </thead>\n",
       "  <tbody>\n",
       "    <tr>\n",
       "      <th>1.0</th>\n",
       "      <td>44.080889</td>\n",
       "      <td>45</td>\n",
       "    </tr>\n",
       "    <tr>\n",
       "      <th>1.5</th>\n",
       "      <td>44.186000</td>\n",
       "      <td>45</td>\n",
       "    </tr>\n",
       "    <tr>\n",
       "      <th>2.0</th>\n",
       "      <td>29.221667</td>\n",
       "      <td>36</td>\n",
       "    </tr>\n",
       "    <tr>\n",
       "      <th>2.5</th>\n",
       "      <td>33.974430</td>\n",
       "      <td>149</td>\n",
       "    </tr>\n",
       "    <tr>\n",
       "      <th>3.0</th>\n",
       "      <td>27.065625</td>\n",
       "      <td>64</td>\n",
       "    </tr>\n",
       "    <tr>\n",
       "      <th>3.5</th>\n",
       "      <td>27.057863</td>\n",
       "      <td>262</td>\n",
       "    </tr>\n",
       "    <tr>\n",
       "      <th>4.0</th>\n",
       "      <td>26.044000</td>\n",
       "      <td>50</td>\n",
       "    </tr>\n",
       "    <tr>\n",
       "      <th>4.5</th>\n",
       "      <td>24.147644</td>\n",
       "      <td>174</td>\n",
       "    </tr>\n",
       "    <tr>\n",
       "      <th>5.0</th>\n",
       "      <td>24.829231</td>\n",
       "      <td>13</td>\n",
       "    </tr>\n",
       "    <tr>\n",
       "      <th>5.5</th>\n",
       "      <td>21.721034</td>\n",
       "      <td>29</td>\n",
       "    </tr>\n",
       "    <tr>\n",
       "      <th>6.0</th>\n",
       "      <td>27.710000</td>\n",
       "      <td>1</td>\n",
       "    </tr>\n",
       "    <tr>\n",
       "      <th>6.5</th>\n",
       "      <td>24.540000</td>\n",
       "      <td>1</td>\n",
       "    </tr>\n",
       "    <tr>\n",
       "      <th>9.0</th>\n",
       "      <td>13.330000</td>\n",
       "      <td>1</td>\n",
       "    </tr>\n",
       "  </tbody>\n",
       "</table>\n",
       "</div>"
      ],
      "text/plain": [
       "              mean        count\n",
       "      price_per_m2 price_per_m2\n",
       "rooms                          \n",
       "1.0      44.080889           45\n",
       "1.5      44.186000           45\n",
       "2.0      29.221667           36\n",
       "2.5      33.974430          149\n",
       "3.0      27.065625           64\n",
       "3.5      27.057863          262\n",
       "4.0      26.044000           50\n",
       "4.5      24.147644          174\n",
       "5.0      24.829231           13\n",
       "5.5      21.721034           29\n",
       "6.0      27.710000            1\n",
       "6.5      24.540000            1\n",
       "9.0      13.330000            1"
      ]
     },
     "execution_count": 7,
     "metadata": {},
     "output_type": "execute_result"
    }
   ],
   "source": [
    "# Using pivot_table to reshape the data and calculate means \n",
    "pd.pivot_table(df[['rooms', 'price_per_m2']],\n",
    "               index=['rooms'],\n",
    "               values=['price_per_m2'],\n",
    "               aggfunc=[np.mean, 'count'])"
   ]
  },
  {
   "cell_type": "markdown",
   "id": "42e68cbc",
   "metadata": {},
   "source": [
    "## Create grouped boxplot (groups = rooms, values = prices_per_m2)"
   ]
  },
  {
   "cell_type": "code",
   "execution_count": 8,
   "id": "a1f9ca28",
   "metadata": {},
   "outputs": [
    {
     "data": {
      "image/png": "[encoded data removed]",
      "text/plain": [
       "<Figure size 800x400 with 1 Axes>"
      ]
     },
     "metadata": {},
     "output_type": "display_data"
    }
   ],
   "source": [
    "# Plot boxplot with groups\n",
    "plt.figure(figsize=(8,4))\n",
    "ax = sns.boxplot(x=\"price_per_m2\",\n",
    "                 y=\"rooms\",\n",
    "                 data=df,\n",
    "                 orient='h')\n",
    "plt.grid()\n",
    "plt.show()"
   ]
  },
  {
   "cell_type": "markdown",
   "id": "817af4d2",
   "metadata": {},
   "source": [
    "## ANOVA to compare the price_per_m2 per number of rooms (= groups)"
   ]
  },
  {
   "cell_type": "code",
   "execution_count": 9,
   "id": "7c8696f0",
   "metadata": {},
   "outputs": [
    {
     "name": "stdout",
     "output_type": "stream",
     "text": [
      "F-value: 12.022 p-value 0.0006\n"
     ]
    }
   ],
   "source": [
    "# Create subsets (groups)\n",
    "r2_5 = df.loc[df['rooms'] == 2.5]['price_per_m2']\n",
    "r3_5 = df.loc[df['rooms'] == 3.5]['price_per_m2']\n",
    "r4_5 = df.loc[df['rooms'] == 4.5]['price_per_m2']\n",
    "\n",
    "# Create ANOVA\n",
    "fvalue, pvalue = stats.f_oneway(r3_5, r4_5)\n",
    "\n",
    "# Print results\n",
    "print('F-value:', fvalue.round(3), 'p-value', pvalue.round(4))"
   ]
  },
  {
   "cell_type": "markdown",
   "id": "ea81580c",
   "metadata": {},
   "source": [
    "## Interpretation of result"
   ]
  },
  {
   "cell_type": "markdown",
   "id": "c2016b55",
   "metadata": {},
   "source": [
    "<p> Because the p-value is lower than 0.05, the null hypothesis can be rejected, i.e. there is evidence that the price per m2 differ between apartments with 2.5, 3.5 and 4.5 rooms. Note that, from the ANOVA, it is not clear which groups show price differences. For this a post-hoc test could be used (not part of the exercises).</p>"
   ]
  },
  {
   "cell_type": "markdown",
   "id": "62339add",
   "metadata": {},
   "source": [
    "## b)"
   ]
  },
  {
   "cell_type": "code",
   "execution_count": 10,
   "id": "821db7a9",
   "metadata": {},
   "outputs": [],
   "source": [
    "# Create subsets (groups)\n",
    "df_low = df.loc[df['pop_dens'] <= 600]\n",
    "df_mod = df.loc[df['pop_dens'] <= 1500]\n",
    "df_high = df.loc[df['pop_dens'] >1500]"
   ]
  },
  {
   "cell_type": "markdown",
   "id": "b46b4618",
   "metadata": {},
   "source": [
    "## c)"
   ]
  },
  {
   "cell_type": "code",
   "execution_count": 11,
   "id": "4eb3ad54",
   "metadata": {},
   "outputs": [
    {
     "name": "stdout",
     "output_type": "stream",
     "text": [
      "F-value: 93.031 p-value 0.0\n"
     ]
    }
   ],
   "source": [
    "# one-way Anova \n",
    "fvalue, pvalue = stats.f_oneway(df_low['price_per_m2'],\n",
    "                                df_mod['price_per_m2'], \n",
    "                                df_high['price_per_m2'])\n",
    "\n",
    "# Print results\n",
    "print('F-value:', fvalue.round(3), 'p-value', pvalue.round(6))\n"
   ]
  },
  {
   "cell_type": "markdown",
   "id": "d80dec75",
   "metadata": {},
   "source": [
    "## d) "
   ]
  },
  {
   "cell_type": "code",
   "execution_count": 12,
   "id": "0eb42e5d",
   "metadata": {},
   "outputs": [
    {
     "name": "stdout",
     "output_type": "stream",
     "text": [
      "F-value: 7.144 p-value 0.000831\n"
     ]
    }
   ],
   "source": [
    "# one-way Anova \n",
    "fvalue, pvalue = stats.f_oneway(df_low['area'],\n",
    "                                df_mod['area'], \n",
    "                                df_high['area'])\n",
    "\n",
    "# Print results\n",
    "print('F-value:', fvalue.round(3), 'p-value', pvalue.round(6))"
   ]
  },
  {
   "cell_type": "markdown",
   "id": "f8745de8",
   "metadata": {},
   "source": [
    "## e) "
   ]
  },
  {
   "cell_type": "code",
   "execution_count": 13,
   "id": "d32291ab",
   "metadata": {},
   "outputs": [
    {
     "name": "stdout",
     "output_type": "stream",
     "text": [
      "F-value: 14.276 p-value 0.0\n"
     ]
    }
   ],
   "source": [
    "# one-way Anova \n",
    "fvalue, pvalue = stats.f_oneway(df_low['rooms'],\n",
    "                                df_mod['rooms'], \n",
    "                                df_high['rooms'])\n",
    "\n",
    "# Print results\n",
    "print('F-value:', fvalue.round(3), 'p-value', pvalue.round(4))"
   ]
  },
  {
   "cell_type": "markdown",
   "id": "70b9ecbd",
   "metadata": {},
   "source": [
    "### Jupyter notebook --footer info-- (please always provide this at the end of each submitted notebook)"
   ]
  },
  {
   "cell_type": "code",
   "execution_count": 14,
   "id": "2a4d9b9d",
   "metadata": {},
   "outputs": [
    {
     "name": "stdout",
     "output_type": "stream",
     "text": [
      "-----------------------------------\n",
      "POSIX\n",
      "Darwin | 21.6.0\n",
      "Datetime: 2022-10-27 17:18:38\n",
      "Python Version: 3.9.13\n",
      "-----------------------------------\n"
     ]
    }
   ],
   "source": [
    "import os\n",
    "import platform\n",
    "import socket\n",
    "from platform import python_version\n",
    "from datetime import datetime\n",
    "\n",
    "print('-----------------------------------')\n",
    "print(os.name.upper())\n",
    "print(platform.system(), '|', platform.release())\n",
    "print('Datetime:', datetime.now().strftime(\"%Y-%m-%d %H:%M:%S\"))\n",
    "print('Python Version:', python_version())\n",
    "print('-----------------------------------')"
   ]
  }
 ],
 "metadata": {
  "kernelspec": {
   "display_name": "Python 3 (ipykernel)",
   "language": "python",
   "name": "python3"
  },
  "language_info": {
   "codemirror_mode": {
    "name": "ipython",
    "version": 3
   },
   "file_extension": ".py",
   "mimetype": "text/x-python",
   "name": "python",
   "nbconvert_exporter": "python",
   "pygments_lexer": "ipython3",
   "version": "3.9.13"
  }
 },
 "nbformat": 4,
 "nbformat_minor": 5
}
